{
  "nbformat": 4,
  "nbformat_minor": 0,
  "metadata": {
    "colab": {
      "name": "Task2.ipynb",
      "provenance": [],
      "collapsed_sections": [
        "t_HHa_jDHEEQ"
      ]
    },
    "kernelspec": {
      "name": "python3",
      "display_name": "Python 3"
    },
    "language_info": {
      "name": "python"
    }
  },
  "cells": [
    {
      "cell_type": "markdown",
      "metadata": {
        "id": "t_HHa_jDHEEQ"
      },
      "source": [
        "# List Comprehension\n",
        "\n",
        " You are given three integers x, y and z representing the dimensions of a cuboid along with an\n",
        " integer n. You have to print a list of all possible coordinates given by (i, j, k) on a 3D grid where the sum of i + j + k  is not\n",
        " equal to n. Here, 0 <= i <= x; 0 <= j <= y; 0 <= k <= z \n"
      ]
    },
    {
      "cell_type": "code",
      "metadata": {
        "id": "wkQXb0m2kPSr",
        "colab": {
          "base_uri": "https://localhost:8080/"
        },
        "outputId": "3f25258e-42cf-408f-8873-1f25dbe481c4"
      },
      "source": [
        "if __name__ == '__main__':\n",
        "    x = int(input())\n",
        "    y = int(input())\n",
        "    z = int(input())\n",
        "    n = int(input())\n",
        "\n",
        "print( [[i,j,k] for i in range(x+1) for j in range(y+1) for k in range(z+1) if (i+j+k)!=n])"
      ],
      "execution_count": 2,
      "outputs": [
        {
          "output_type": "stream",
          "text": [
            "3\n",
            "2\n",
            "1\n",
            "2\n",
            "[[0, 0, 0], [0, 0, 1], [0, 1, 0], [0, 2, 1], [1, 0, 0], [1, 1, 1], [1, 2, 0], [1, 2, 1], [2, 0, 1], [2, 1, 0], [2, 1, 1], [2, 2, 0], [2, 2, 1], [3, 0, 0], [3, 0, 1], [3, 1, 0], [3, 1, 1], [3, 2, 0], [3, 2, 1]]\n"
          ],
          "name": "stdout"
        }
      ]
    },
    {
      "cell_type": "markdown",
      "metadata": {
        "id": "RWunxsfEUwME"
      },
      "source": [
        "# Find the Runner-Up Score!\n",
        "\n",
        "Given the participants' score sheet for your University Sports Day, you are required to find the runner-up score. You are given  scores. Store them in a list and find the score of the runner-up."
      ]
    },
    {
      "cell_type": "code",
      "metadata": {
        "id": "wpUtF1xcoC3E",
        "colab": {
          "base_uri": "https://localhost:8080/"
        },
        "outputId": "283d4a4e-06ea-4310-e53c-4452aeb2815b"
      },
      "source": [
        "if __name__ == '__main__':\n",
        "    n = int(input())\n",
        "    arr = map(int, input().split())\n",
        "    \n",
        "print(sorted(list(set(arr)))[-2])\n"
      ],
      "execution_count": 3,
      "outputs": [
        {
          "output_type": "stream",
          "text": [
            "4\n",
            "3 5 6 2\n",
            "5\n"
          ],
          "name": "stdout"
        }
      ]
    },
    {
      "cell_type": "markdown",
      "metadata": {
        "id": "mYyRMKgoVRDk"
      },
      "source": [
        "#Nested Lists\n",
        "\n",
        "\n",
        "Given the names and grades for each student in a class of N students, store them in a nested list and print the name(s) of any student(s) having the second lowest grade.\n"
      ]
    },
    {
      "cell_type": "code",
      "metadata": {
        "id": "ha2Bl56-D0W7",
        "colab": {
          "base_uri": "https://localhost:8080/"
        },
        "outputId": "30af95c8-ac86-45fc-dd5a-78bc93780ebd"
      },
      "source": [
        "score_list=[]\n",
        "if __name__ == '__main__':\n",
        "    for _ in range(int(input())):\n",
        "        name = input()\n",
        "        score = float(input())\n",
        "        score_list.append([name,score])\n",
        "\n",
        "second_lowest= sorted(set([score for name,score in score_list]))[1]\n",
        "print('\\n'.join(sorted([name for name,score in score_list if score==second_lowest])))"
      ],
      "execution_count": 6,
      "outputs": [
        {
          "output_type": "stream",
          "text": [
            "3\n",
            "riya\n",
            "22\n",
            "yash\n",
            "34\n",
            "mohit\n",
            "22\n",
            "yash\n"
          ],
          "name": "stdout"
        }
      ]
    },
    {
      "cell_type": "markdown",
      "metadata": {
        "id": "wVNDCbLwV4HN"
      },
      "source": [
        "#Finding the Percentage\n",
        "The provided code stub will read in a dictionary containing key/value pairs of name:[marks] for a list of students. Print the average of the marks array for the student name provided, showing 2 places after the decimal."
      ]
    },
    {
      "cell_type": "code",
      "metadata": {
        "id": "vUQwoXsiJwia",
        "colab": {
          "base_uri": "https://localhost:8080/"
        },
        "outputId": "37bbf5ac-881a-471d-d721-ef4dfd2f795c"
      },
      "source": [
        "if __name__ == '__main__':\n",
        "    n = int(input())\n",
        "    student_marks = {}\n",
        "    for _ in range(n):\n",
        "        name, *line = input().split()\n",
        "        scores = list(map(float, line))\n",
        "        student_marks[name] = scores\n",
        "    query_name = input()\n",
        "    \n",
        "    total=0\n",
        "    for i in student_marks[query_name]:\n",
        "        total=total+i\n",
        "    \n",
        "    print('%.2f'%(total/3))\n",
        "        "
      ],
      "execution_count": 8,
      "outputs": [
        {
          "output_type": "stream",
          "text": [
            "3\n",
            "Malika 52 56 60\n",
            "Rahul 22 43 65\n",
            "Gia 34 62 58\n",
            "Malika\n",
            "56.00\n"
          ],
          "name": "stdout"
        }
      ]
    },
    {
      "cell_type": "markdown",
      "metadata": {
        "id": "EYp18x7TWjAs"
      },
      "source": [
        "#Lists\n",
        "Consider a list (list = []). You can perform the following commands:\n",
        "\n",
        "insert i e: Insert integer e at position i.\n",
        "\n",
        "print: Print the list.\n",
        "\n",
        "remove e: Delete the first occurrence of integer e.\n",
        "\n",
        "append e: Insert integer e at the end of the list.\n",
        "\n",
        "sort: Sort the list.\n",
        "\n",
        "pop: Pop the last element from the list.\n",
        "\n",
        "reverse: Reverse the list.\n",
        "\n",
        "Initialize your list and read in the value of n followed by n lines of commands where each command will be of the  types listed above. Iterate through each command in order and perform the corresponding operation on your list."
      ]
    },
    {
      "cell_type": "code",
      "metadata": {
        "id": "W0dl2pNxXo7l",
        "colab": {
          "base_uri": "https://localhost:8080/"
        },
        "outputId": "76888a8f-c897-4398-9e76-8e2d6a21b228"
      },
      "source": [
        "if __name__ == '__main__':\n",
        "    N = int(input())\n",
        "    operations=[]\n",
        "    for _ in range(N):\n",
        "         cmd = input().split()\n",
        "         \n",
        "         if cmd[0]=='insert':\n",
        "            operations.insert(int(cmd[1]), int(cmd[2]))\n",
        "         elif cmd[0]=='print':\n",
        "            print(operations)\n",
        "         elif cmd[0]=='remove':\n",
        "            operations.remove(int(cmd[1]))\n",
        "         elif cmd[0]=='append':\n",
        "            operations.append(int(cmd[1]))\n",
        "         elif cmd[0]=='sort':\n",
        "            operations.sort()\n",
        "         elif cmd[0]=='pop':\n",
        "            operations.pop()\n",
        "         elif cmd[0]=='reverse':\n",
        "            operations.reverse()\n",
        "    \n",
        "    "
      ],
      "execution_count": 9,
      "outputs": [
        {
          "output_type": "stream",
          "text": [
            "4\n",
            "insert 0 5\n",
            " insert 1 10 \n",
            "insert 0 6 \n",
            "print\n",
            "[6, 5, 10]\n"
          ],
          "name": "stdout"
        }
      ]
    },
    {
      "cell_type": "markdown",
      "metadata": {
        "id": "bwYu13CMXG3Z"
      },
      "source": [
        "#Tuples\n",
        "Given an integer, n, and n space-separated integers as input, create a tuple, t , of those n integers. Then compute and print the result of hash(t)."
      ]
    },
    {
      "cell_type": "code",
      "metadata": {
        "id": "ubVugzCXar2-",
        "colab": {
          "base_uri": "https://localhost:8080/"
        },
        "outputId": "35b7702f-da89-4c77-f7b6-83ef38e90d65"
      },
      "source": [
        "if __name__ == '__main__':\n",
        "    n = int(input())\n",
        "    integer_list = tuple(map(int, input().split()))\n",
        "print(hash(integer_list))"
      ],
      "execution_count": 10,
      "outputs": [
        {
          "output_type": "stream",
          "text": [
            "4\n",
            "2 4 6 1\n",
            "-3715187750928699018\n"
          ],
          "name": "stdout"
        }
      ]
    },
    {
      "cell_type": "markdown",
      "metadata": {
        "id": "P8J-9DC2Xj3J"
      },
      "source": [
        "#Introduction to Sets\n",
        "\n",
        "Ms. Gabriel Williams is a botany professor at District College. One day, she asked her student Mickey to compute the average of all the plants with distinct heights in her greenhouse.\n",
        "\n",
        "Formula used:\n",
        "avg= sum of distict/no. of distinct \n",
        "\n",
        "Complete the average function."
      ]
    },
    {
      "cell_type": "code",
      "metadata": {
        "id": "hSZItV7L9RoN",
        "colab": {
          "base_uri": "https://localhost:8080/"
        },
        "outputId": "ca903b70-1c62-4d16-ab17-f0d2d7c37c65"
      },
      "source": [
        "def average(array):\n",
        "    # your code goes here\n",
        "    length=len(set(array))\n",
        "    avg=sum(set(array))/length\n",
        "    return avg \n",
        "\n",
        "if __name__ == '__main__':\n",
        "    n = int(input())\n",
        "    arr = list(map(int, input().split()))\n",
        "    result = average(arr)\n",
        "    print(result)"
      ],
      "execution_count": 12,
      "outputs": [
        {
          "output_type": "stream",
          "text": [
            "6\n",
            "34 53 66 88 53 23\n",
            "52.8\n"
          ],
          "name": "stdout"
        }
      ]
    },
    {
      "cell_type": "markdown",
      "metadata": {
        "id": "Pq16LWNFX9Zi"
      },
      "source": [
        "#No Idea!\n",
        "There is an array of n integers. There are also  disjoint sets,  A and B , each containing m integers. You like all the integers in set  A and dislike all the integers in set B. Your initial happiness is  0. For each i integer in the array, if , you add 1 to your happiness. If , you add  -1 to your happiness. Otherwise, your happiness does not change. Output your final happiness at the end.\n",
        "\n",
        "Note: Since  A and  B are sets, they have no repeated elements. However, the array might contain duplicate elements.\n",
        "\n",
        "Output a single integer, your total happiness.\n"
      ]
    },
    {
      "cell_type": "code",
      "metadata": {
        "id": "24x0RpAu9hU7",
        "colab": {
          "base_uri": "https://localhost:8080/"
        },
        "outputId": "e74a4c68-1985-4cd1-effe-94c7da8d27c0"
      },
      "source": [
        "# Enter your code here. Read input from STDIN. Print output to STDOUT\n",
        "n, m = [int(x) for x in input().split()]\n",
        "\n",
        "main_arr = [int(x) for x in input().split()]\n",
        "A = {int(x) for x in input().split()}\n",
        "B = {int(x) for x in input().split()}\n",
        "\n",
        "happiness = 0\n",
        "\n",
        "for value in main_arr:\n",
        "    change = 1 if value in A else -1 if value in B else 0\n",
        "    happiness += change\n",
        "\n",
        "print(happiness)"
      ],
      "execution_count": 13,
      "outputs": [
        {
          "output_type": "stream",
          "text": [
            "3 2\n",
            "1 5 3\n",
            "3 5\n",
            "1 7\n",
            "1\n"
          ],
          "name": "stdout"
        }
      ]
    },
    {
      "cell_type": "markdown",
      "metadata": {
        "id": "dAZL3dp_YYsb"
      },
      "source": [
        "#Symmetric Difference\n",
        "Given 2 sets of integers, M and N, print their symmetric difference in ascending order. The term symmetric difference indicates those values that exist in either M or N but do not exist in both."
      ]
    },
    {
      "cell_type": "code",
      "metadata": {
        "id": "LK_Fc_xOKqFl",
        "colab": {
          "base_uri": "https://localhost:8080/"
        },
        "outputId": "4793f242-e320-420c-bbb3-069521ea7692"
      },
      "source": [
        "# Enter your code here. Read input from STDIN. Print output to STDOUT\n",
        "m=int(input())\n",
        "m_int= set(map(int, input().split()))\n",
        "n=int(input())\n",
        "n_int= set(map(int, input().split()))\n",
        "sym_diff= sorted((m_int.difference(n_int)).union(n_int.difference(m_int)))\n",
        "for i in sym_diff:\n",
        "    print (i)\n"
      ],
      "execution_count": 14,
      "outputs": [
        {
          "output_type": "stream",
          "text": [
            "3\n",
            "23 22 21\n",
            "4\n",
            "21 45 32 21\n",
            "22\n",
            "23\n",
            "32\n",
            "45\n"
          ],
          "name": "stdout"
        }
      ]
    },
    {
      "cell_type": "markdown",
      "metadata": {
        "id": "BFsxUI3rYxPg"
      },
      "source": [
        "#Set .add()\n",
        "\n",
        "Apply your knowledge of the .add() operation to help your friend Rupal.\n",
        "Rupal has a huge collection of country stamps. She decided to count the total number of distinct country stamps in her collection. She asked for your help. You pick the stamps one by one from a stack of N country stamps.\n",
        "Find the total number of distinct country stamps."
      ]
    },
    {
      "cell_type": "code",
      "metadata": {
        "id": "NXzrQIsBKvK6",
        "colab": {
          "base_uri": "https://localhost:8080/"
        },
        "outputId": "6699fcd2-3f0d-4f4f-d13b-f6da52ab6a6e"
      },
      "source": [
        "# WAY 1 \n",
        "n= int(input())\n",
        "stamps=set(input() for i in range(n))\n",
        "print(len(stamps))\n",
        "\n",
        "print()\n",
        "\n",
        "# WAY 2\n",
        "n= int(input())\n",
        "stamps=set()\n",
        "for i in range(n):\n",
        "    stamps.add(input())\n",
        "print(len(stamps))"
      ],
      "execution_count": 2,
      "outputs": [
        {
          "output_type": "stream",
          "text": [
            "4\n",
            "India\n",
            "America\n",
            "Russia\n",
            "America\n",
            "3\n",
            "\n",
            "5\n",
            "London\n",
            "UAE\n",
            "Sri Lanka\n",
            "UAE\n",
            "Brazil\n",
            "4\n"
          ],
          "name": "stdout"
        }
      ]
    },
    {
      "cell_type": "markdown",
      "metadata": {
        "id": "p58_FDFTZejZ"
      },
      "source": [
        "#set .discard(), remove(), pop()\n",
        "\n",
        "You have a non-empty set s, and you have to execute N commands given in N lines.\n",
        "The commands will be pop, remove and discard."
      ]
    },
    {
      "cell_type": "code",
      "metadata": {
        "id": "GTJayz-7Mnj9",
        "colab": {
          "base_uri": "https://localhost:8080/"
        },
        "outputId": "b0b3ebe3-cabb-4c7e-afe7-5b7455cc4dce"
      },
      "source": [
        "n = int(input())\n",
        "s = set(map(int, input().split()))\n",
        "cmd_count=int(input())\n",
        "for _ in range(cmd_count):\n",
        "    cmd = input().split()\n",
        "    if cmd[0]=='remove':\n",
        "            s.remove(int(cmd[1]))\n",
        "    elif cmd[0]=='discard':\n",
        "            s.discard(int(cmd[1]))\n",
        "    elif cmd[0]=='pop':\n",
        "            s.pop()\n",
        "\n",
        "print(sum(s))"
      ],
      "execution_count": 17,
      "outputs": [
        {
          "output_type": "stream",
          "text": [
            "9\n",
            "1 2 3 4 5 6 7 8 9\n",
            "10\n",
            "pop\n",
            "remove 9\n",
            "discard 9\n",
            "discard 8\n",
            "remove 7\n",
            "pop\n",
            "discard 6\n",
            "remove 5\n",
            "pop\n",
            "discard 5\n",
            "4\n"
          ],
          "name": "stdout"
        }
      ]
    },
    {
      "cell_type": "markdown",
      "metadata": {
        "id": "1-xuI8SEwmTG"
      },
      "source": [
        "#Statement:\n",
        "\n",
        "Students of District College have subscriptions to English and French newspapers. Some students have subscribed to English only, some have subscribed to French only, and some have subscribed to both newspapers.\n",
        "\n",
        "Input Format for next 4 tasks\n",
        "\n",
        "The first line contains an integer, n, the number of students who have subscribed to the English newspaper.\n",
        "The second line contains n space separated roll numbers of those students.\n",
        "The third line contains b, the number of students who have subscribed to the French newspaper.\n",
        "The fourth line contains b space separated roll numbers of those students."
      ]
    },
    {
      "cell_type": "markdown",
      "metadata": {
        "id": "8E77RfVZwWA6"
      },
      "source": [
        "##Set .union() Operation\n",
        "You are given two sets of student roll numbers. One set has subscribed to the English newspaper, and the other set is subscribed to the French newspaper. The same student could be in both sets. Your task is to find the total number of students who have subscribed to at least one newspaper."
      ]
    },
    {
      "cell_type": "code",
      "metadata": {
        "id": "7NaWnHoUPzsY",
        "colab": {
          "base_uri": "https://localhost:8080/"
        },
        "outputId": "fb52b8d9-13c8-4e10-9563-3ac0ecd9b08d"
      },
      "source": [
        "# Enter your code here. Read input from STDIN. Print output to STDOUT\n",
        "english= int(input())\n",
        "eng_roll= [int(x) for x in input().split()][:english]\n",
        "\n",
        "french= int(input())\n",
        "fre_roll= [int(x) for x in input().split()][:french]\n",
        "\n",
        "print(len(set(eng_roll).union(set(fre_roll))))"
      ],
      "execution_count": 3,
      "outputs": [
        {
          "output_type": "stream",
          "text": [
            "9\n",
            "1 2 3 4 5 6 7 8 9\n",
            "9\n",
            "10 1 2 3 11 21 55 6 8\n",
            "13\n"
          ],
          "name": "stdout"
        }
      ]
    },
    {
      "cell_type": "markdown",
      "metadata": {
        "id": "k6RbuPc_yJY1"
      },
      "source": [
        "##Set .intersection() Operation\n",
        "You are given two sets of student roll numbers. One set has subscribed to the English newspaper, one set has subscribed to the French newspaper. Your task is to find the total number of students who have subscribed to both newspapers.\n",
        "\n"
      ]
    },
    {
      "cell_type": "code",
      "metadata": {
        "id": "DFMkVIU65Ggi",
        "colab": {
          "base_uri": "https://localhost:8080/"
        },
        "outputId": "94fbc46a-0b1a-4e3d-b67e-d701c2fb6d9b"
      },
      "source": [
        "# Enter your code here. Read input from STDIN. Print output to STDOUT\n",
        "\n",
        "english= int(input())\n",
        "eng_roll= [int(x) for x in input().split()][:english]\n",
        "\n",
        "french= int(input())\n",
        "fre_roll= [int(x) for x in input().split()][:french]\n",
        "\n",
        "print(len(set(eng_roll).intersection(set(fre_roll))))"
      ],
      "execution_count": 4,
      "outputs": [
        {
          "output_type": "stream",
          "text": [
            "9\n",
            "1 2 3 4 5 6 7 8 9\n",
            "9\n",
            "10 1 2 3 11 21 55 6 8\n",
            "5\n"
          ],
          "name": "stdout"
        }
      ]
    },
    {
      "cell_type": "markdown",
      "metadata": {
        "id": "uhJJkjfyydMZ"
      },
      "source": [
        "##Set .difference() Operation\n",
        "You are given two sets of student roll numbers. One set has subscribed to the English newspaper, and one set has subscribed to the French newspaper. Your task is to find the total number of students who have subscribed to only English newspapers.\n"
      ]
    },
    {
      "cell_type": "code",
      "metadata": {
        "id": "sE_VuUmE5mDq",
        "colab": {
          "base_uri": "https://localhost:8080/"
        },
        "outputId": "f86c42fe-ec20-4e9d-cd3b-abe8cf972ce6"
      },
      "source": [
        "# Enter your code here. Read input from STDIN. Print output to STDOUT\n",
        "english= int(input())\n",
        "eng_roll= [int(x) for x in input().split()][:english]\n",
        "\n",
        "french= int(input())\n",
        "fre_roll= [int(x) for x in input().split()][:french]\n",
        "\n",
        "print(len(set(eng_roll).difference(set(fre_roll))))"
      ],
      "execution_count": 5,
      "outputs": [
        {
          "output_type": "stream",
          "text": [
            "9\n",
            "1 2 3 4 5 6 7 8 9\n",
            "9\n",
            "10 1 2 3 11 21 55 6 8\n",
            "4\n"
          ],
          "name": "stdout"
        }
      ]
    },
    {
      "cell_type": "markdown",
      "metadata": {
        "id": "BiGbs1fbyrKs"
      },
      "source": [
        "##Set .symmetric_difference() Operation\n",
        "\n",
        "You are given two sets of student roll numbers. One set has subscribed to the English newspaper, and one set has subscribed to the French newspaper. Your task is to find the total number of students who have subscribed to either the English or the French newspaper but not both.\n"
      ]
    },
    {
      "cell_type": "code",
      "metadata": {
        "id": "J38wFTZ96Kqu",
        "colab": {
          "base_uri": "https://localhost:8080/"
        },
        "outputId": "6cead8eb-834e-41e2-cb55-81e1e90c6899"
      },
      "source": [
        "# Enter your code here. Read input from STDIN. Print output to STDOUT\n",
        "english= int(input())\n",
        "eng_roll= [int(x) for x in input().split()][:english]\n",
        "\n",
        "french= int(input())\n",
        "fre_roll= [int(x) for x in input().split()][:french]\n",
        "\n",
        "print(len(set(eng_roll).symmetric_difference(set(fre_roll))))"
      ],
      "execution_count": 6,
      "outputs": [
        {
          "output_type": "stream",
          "text": [
            "9\n",
            "1 2 3 4 5 6 7 8 9\n",
            "9\n",
            "10 1 2 3 11 21 55 6 8\n",
            "8\n"
          ],
          "name": "stdout"
        }
      ]
    },
    {
      "cell_type": "markdown",
      "metadata": {
        "id": "7ghy0X3YzcT0"
      },
      "source": [
        "#Set Mutations\n",
        "You are given a set A and N number of other sets. These N number of sets have to perform some specific mutation operations on set A .\n",
        "Your task is to execute those operations and print the sum of elements from set A .\n",
        "\n"
      ]
    },
    {
      "cell_type": "code",
      "metadata": {
        "id": "ziuPOrK09Jme",
        "colab": {
          "base_uri": "https://localhost:8080/"
        },
        "outputId": "f2f73663-471e-491d-df0e-5b09d7d1ddfa"
      },
      "source": [
        "# Enter your code here. Read input from STDIN. Print output to STDOUT\n",
        "\n",
        "a= int(input())\n",
        "a_set= [int(x) for x in input().split()][:a]\n",
        "a_set=set(a_set)\n",
        "n=int(input())\n",
        "for i in range(n):\n",
        "    cmd = input().split()\n",
        "    limit=int(cmd[1])\n",
        "    opert= [int(x) for x in input().split()][:limit]   \n",
        "    if cmd[0]=='update':\n",
        "        a_set.update(opert)\n",
        "    elif cmd[0]=='intersection_update':\n",
        "        a_set.intersection_update(opert)\n",
        "    elif cmd[0]=='difference_update':\n",
        "        a_set.difference_update(opert)\n",
        "    elif cmd[0]=='symmetric_difference_update':\n",
        "        a_set.symmetric_difference_update(opert)\n",
        "\n",
        "print(sum(a_set))"
      ],
      "execution_count": 7,
      "outputs": [
        {
          "output_type": "stream",
          "text": [
            "16\n",
            "1 2 3 4 5 6 7 8 9 10 11 12 13 14 24 52\n",
            "4\n",
            "intersection_update 10\n",
            " 2 3 5 6 8 9 1 4 7 11\n",
            "update 2\n",
            "55 66\n",
            "symmetric_difference_update 5\n",
            "22 7 35 62 58\n",
            "difference_update 7\n",
            "11 22 35 55 58 62 66\n",
            "38\n"
          ],
          "name": "stdout"
        }
      ]
    },
    {
      "cell_type": "markdown",
      "metadata": {
        "id": "ETYrqJchzqyf"
      },
      "source": [
        "#The Captian's Room\n",
        "\n",
        "Mr. Anant Asankhya is the manager at the INFINITE hotel. The hotel has an infinite amount of rooms.\n",
        "\n",
        "One fine day, a finite number of tourists come to stay at the hotel.\n",
        "The tourists consist of:\n",
        "→ A Captain.\n",
        "→ An unknown group of families consisting of  members per group where K ≠ 1.\n",
        "\n",
        "The Captain was given a separate room, and the rest were given one room per group.\n",
        "\n",
        "Mr. Anant has an unordered list of randomly arranged room entries. The list consists of the room numbers for all of the tourists. The room numbers will appear K  times per group except for the Captain's room.\n",
        "\n",
        "Mr. Anant needs you to help him find the Captain's room number.\n",
        "The total number of tourists or the total number of groups of families is not known to you.\n",
        "You only know the value of K and the room number list."
      ]
    },
    {
      "cell_type": "code",
      "metadata": {
        "id": "wZOI4yCO6_cn",
        "colab": {
          "base_uri": "https://localhost:8080/"
        },
        "outputId": "37ed50d4-2768-496b-988f-7ac06788fe12"
      },
      "source": [
        "# Enter your code here. Read input from STDIN. Print output to STDOUT\n",
        "K=int(input())\n",
        "room_list= list(map(int, input().split()))\n",
        "room_set=set(room_list)\n",
        "sum_list=sum(room_list)\n",
        "sum_set= sum(room_set)\n",
        "fac= ((sum_list-sum_set)/(K-1))*K\n",
        "capt_room= int(sum_list- fac)\n",
        "print(capt_room)"
      ],
      "execution_count": 8,
      "outputs": [
        {
          "output_type": "stream",
          "text": [
            "5\n",
            "1 2 3 6 5 4 4 2 5 3 6 1 6 5 3 2 4 1 2 5 1 4 3 6 8 4 3 1 5 6 2\n",
            "8\n"
          ],
          "name": "stdout"
        }
      ]
    },
    {
      "cell_type": "markdown",
      "metadata": {
        "id": "VEVJnAwoz0Vr"
      },
      "source": [
        "#Check Subset\n",
        "\n",
        "You are given two sets, A and B.\n",
        "Your job is to find whether set A is a subset of set B.\n",
        "If set A is subset of set B, print True.\n",
        "If set A is not a subset of set B, print False."
      ]
    },
    {
      "cell_type": "code",
      "metadata": {
        "id": "dBg2mgm0q8lL",
        "colab": {
          "base_uri": "https://localhost:8080/"
        },
        "outputId": "eaf88415-e89c-4aa6-e28c-67678f882688"
      },
      "source": [
        "# Enter your code here. Read input from STDIN. Print output to STDOUT\n",
        "n=int(input())\n",
        "for _ in range(n):\n",
        "    a_ele=int(input())\n",
        "    a= [int(x) for x in input().split()][:a_ele]\n",
        "    a=set(a)\n",
        "    b_ele=int(input())\n",
        "    b= [int(x) for x in input().split()][:b_ele]\n",
        "    b=set(b)\n",
        "\n",
        "\n",
        "    #WAY 1\n",
        "    diff_b= b - a\n",
        "    b_a= b- diff_b\n",
        "    \n",
        "    if b_a == a:\n",
        "        print(True)\n",
        "    else:\n",
        "        print(False)\n",
        "    \n",
        "    #WAY 2\n",
        "    if a <= b:\n",
        "        print(True)\n",
        "    else:\n",
        "        print(False)\n",
        "    \n",
        "    #WAY 3\n",
        "    if a.issubset(b):\n",
        "        print(True)\n",
        "    else:\n",
        "        print(False)\n",
        "    \n",
        "    print(\"\\n\\n\\n\")\n",
        "    "
      ],
      "execution_count": 10,
      "outputs": [
        {
          "output_type": "stream",
          "text": [
            "3\n",
            "5\n",
            "1 2 3 5 6\n",
            "9\n",
            "9 8 5 6 3 2 1 4 7\n",
            "True\n",
            "True\n",
            "True\n",
            "\n",
            "\n",
            "\n",
            "\n",
            "1\n",
            "2\n",
            "5\n",
            "3 6 5 4 1\n",
            "False\n",
            "False\n",
            "False\n",
            "\n",
            "\n",
            "\n",
            "\n",
            "7\n",
            "1 2 3 5 6 8 9\n",
            "3\n",
            "9 8 2\n",
            "False\n",
            "False\n",
            "False\n",
            "\n",
            "\n",
            "\n",
            "\n"
          ],
          "name": "stdout"
        }
      ]
    },
    {
      "cell_type": "markdown",
      "metadata": {
        "id": "kPWPUU250C3I"
      },
      "source": [
        "#Check Strict Superset\n",
        "\n",
        "Input Format :\n",
        "The first line contains the space separated elements of set A.\n",
        "The second line contains integer n, the number of other sets.\n",
        "The next n lines contains the space separated elements of the other sets.\n",
        "\n",
        "Constraints :\n",
        "0 < len(set(A)) < 501\n",
        "0 < N < 21\n",
        "0 < len(other set) < 101\n",
        "\n",
        "Output Format :\n",
        "Print True if set A is a strict superset of all other N sets. Otherwise, print False."
      ]
    },
    {
      "cell_type": "code",
      "metadata": {
        "id": "CPH_JYHatOLj",
        "colab": {
          "base_uri": "https://localhost:8080/"
        },
        "outputId": "11f7b34e-3c92-4248-c953-8c96e1316ae0"
      },
      "source": [
        "# Enter your code here. Read input from STDIN. Print output to STDOUT\n",
        "a= set(input().split())\n",
        "n=int(input())\n",
        "n1=n\n",
        "#WAY 1\n",
        "count=0\n",
        "for _ in range(n):\n",
        "    n=set(input().split())\n",
        "    \n",
        "    if n < a:\n",
        "        count+=0\n",
        "    else:\n",
        "        count+=1\n",
        "        \n",
        "if count==0:\n",
        "    print(True)\n",
        "else:\n",
        "    print(False)\n",
        "\n",
        "#WAY 2\n",
        "count=0\n",
        "\n",
        "diff_na= n.difference(a)\n",
        "    \n",
        "if len(diff_na)>0:\n",
        "  count+=1\n",
        "elif len(diff_na)==0 and len(n)==len(a):\n",
        "  count+=1\n",
        "        \n",
        "        \n",
        "if count==0:\n",
        "    print(True)\n",
        "else:\n",
        "    print(False)\n"
      ],
      "execution_count": 13,
      "outputs": [
        {
          "output_type": "stream",
          "text": [
            "1 2 3 4 5 6 7 8 9 10 11 12 23 45 84 78\n",
            "2\n",
            "1 2 3 4 5\n",
            "100 11 12\n",
            "False\n",
            "False\n"
          ],
          "name": "stdout"
        }
      ]
    }
  ]
}