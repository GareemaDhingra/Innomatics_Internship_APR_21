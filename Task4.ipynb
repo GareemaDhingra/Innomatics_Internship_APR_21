{
  "nbformat": 4,
  "nbformat_minor": 0,
  "metadata": {
    "colab": {
      "name": "Task4.ipynb",
      "provenance": [],
      "collapsed_sections": []
    },
    "kernelspec": {
      "name": "python3",
      "display_name": "Python 3"
    },
    "language_info": {
      "name": "python"
    }
  },
  "cells": [
    {
      "cell_type": "markdown",
      "metadata": {
        "id": "ejQKAAiBqjVm"
      },
      "source": [
        "# Swap Case\n",
        "You are given a string and your task is to swap cases. In other words, convert all lowercase letters to uppercase letters and vice versa."
      ]
    },
    {
      "cell_type": "code",
      "metadata": {
        "id": "qB6QjBBUk1LV",
        "colab": {
          "base_uri": "https://localhost:8080/"
        },
        "outputId": "174203d7-967e-4747-f4f6-060454633e72"
      },
      "source": [
        "#method 1\n",
        "def swap_case(s):\n",
        "    swap_string=''\n",
        "    for i in s:\n",
        "        if i.islower()==1:\n",
        "            swap_string+=i.upper()\n",
        "        elif i.isupper()==1:\n",
        "            swap_string+=i.lower()\n",
        "        else:\n",
        "            swap_string+=i\n",
        "    return swap_string\n",
        "\n",
        "if __name__ == '__main__':\n",
        "    s = input()\n",
        "    result = swap_case(s)\n",
        "    print(result)"
      ],
      "execution_count": 1,
      "outputs": [
        {
          "output_type": "stream",
          "text": [
            "hey Welcome toO the pythON wORld\n",
            "HEY wELCOME TOo THE PYTHon WorLD\n"
          ],
          "name": "stdout"
        }
      ]
    },
    {
      "cell_type": "code",
      "metadata": {
        "colab": {
          "base_uri": "https://localhost:8080/"
        },
        "id": "O1tWvHjERhc4",
        "outputId": "96b4e815-76e8-420a-90be-4b6ccc9c46fe"
      },
      "source": [
        "#method 2\n",
        "def swap_case(s):\n",
        "  return s.swapcase()\n",
        "\n",
        "if __name__ == '__main__':\n",
        "    s = input()\n",
        "    result = swap_case(s)\n",
        "    print(result)"
      ],
      "execution_count": 2,
      "outputs": [
        {
          "output_type": "stream",
          "text": [
            "hey Welcome toO the pythON wORld\n",
            "HEY wELCOME TOo THE PYTHon WorLD\n"
          ],
          "name": "stdout"
        }
      ]
    },
    {
      "cell_type": "markdown",
      "metadata": {
        "id": "FvLDVjT-R06K"
      },
      "source": [
        "#String Split and Join\n",
        "You are given a string. Split the string on a \" \" (space) delimiter and join using a - hyphen."
      ]
    },
    {
      "cell_type": "code",
      "metadata": {
        "id": "IHyAXghPl2m6",
        "colab": {
          "base_uri": "https://localhost:8080/"
        },
        "outputId": "4dd94d76-7acb-43a5-a876-f5b3ab5a0e70"
      },
      "source": [
        "def split_and_join(line):\n",
        "    # write your code here\n",
        "    line= line.split(\" \")\n",
        "    line=\"-\".join(line)\n",
        "    return line\n",
        "\n",
        "if __name__ == '__main__':\n",
        "    line = input()\n",
        "    result = split_and_join(line)\n",
        "    print(result)"
      ],
      "execution_count": 3,
      "outputs": [
        {
          "output_type": "stream",
          "text": [
            "this is a string\n",
            "this-is-a-string\n"
          ],
          "name": "stdout"
        }
      ]
    },
    {
      "cell_type": "markdown",
      "metadata": {
        "id": "_OO-Qr0wSH46"
      },
      "source": [
        "#What's your Name?\n",
        "You are given the firstname and lastname of a person on two different lines. Your task is to read them and print the following:\n",
        "\n",
        "Hello firstname lastname! You just delved into python."
      ]
    },
    {
      "cell_type": "code",
      "metadata": {
        "id": "FzMZsvVnmsm5",
        "colab": {
          "base_uri": "https://localhost:8080/"
        },
        "outputId": "969ec254-71d2-4107-a646-9044c11fe54e"
      },
      "source": [
        "def print_full_name(first, last):\n",
        "    # Write your code here\n",
        "    print(\"Hello \"+ first +\" \"+ last+ \"! You just delved into python.\" )\n",
        "\n",
        "if __name__ == '__main__':\n",
        "    first_name = input()\n",
        "    last_name = input()\n",
        "    print_full_name(first_name, last_name)"
      ],
      "execution_count": 4,
      "outputs": [
        {
          "output_type": "stream",
          "text": [
            "Raghav\n",
            "Sharma\n",
            "Hello Raghav Sharma! You just delved into python.\n"
          ],
          "name": "stdout"
        }
      ]
    },
    {
      "cell_type": "markdown",
      "metadata": {
        "id": "25m0LRzdSYi5"
      },
      "source": [
        "#Mutations\n",
        "Read a given string, change the character at a given index and then print the modified string.\n",
        "The first line contains a string, string.\n",
        "The next line contains an integer position, the index location and a string character, separated by a space"
      ]
    },
    {
      "cell_type": "code",
      "metadata": {
        "id": "DAa1mJ5MnvtK",
        "colab": {
          "base_uri": "https://localhost:8080/"
        },
        "outputId": "d8464af2-e83b-464f-d206-fa64bbcc891b"
      },
      "source": [
        "#method 1\n",
        "def mutate_string(string, position, character):\n",
        "    string=string[:position]+character+string[position+1:]\n",
        "    return string\n",
        "\n",
        "if __name__ == '__main__':\n",
        "    s = input()\n",
        "    i, c = input().split()\n",
        "    s_new = mutate_string(s, int(i), c)\n",
        "    print(s_new)"
      ],
      "execution_count": 5,
      "outputs": [
        {
          "output_type": "stream",
          "text": [
            "abracadabra\n",
            "5 k\n",
            "abrackdabra\n"
          ],
          "name": "stdout"
        }
      ]
    },
    {
      "cell_type": "code",
      "metadata": {
        "colab": {
          "base_uri": "https://localhost:8080/"
        },
        "id": "FffcNqyxS_0g",
        "outputId": "3efbf264-a564-4ef7-9317-f73dcbf26cda"
      },
      "source": [
        "#method 2\n",
        "def mutate_string(string, position, character):\n",
        "    l = list(string)\n",
        "    l[position] = character\n",
        "    string = ''.join(l)\n",
        "    return string\n",
        "\n",
        "if __name__ == '__main__':\n",
        "    s = input()\n",
        "    i, c = input().split()\n",
        "    s_new = mutate_string(s, int(i), c)\n",
        "    print(s_new)"
      ],
      "execution_count": 6,
      "outputs": [
        {
          "output_type": "stream",
          "text": [
            "abracadabra\n",
            "5 k\n",
            "abrackdabra\n"
          ],
          "name": "stdout"
        }
      ]
    },
    {
      "cell_type": "markdown",
      "metadata": {
        "id": "KMmTwwxWTOXz"
      },
      "source": [
        "#Find a string\n",
        "In this challenge, the user enters a string and a substring. You have to print the number of times that the substring occurs in the given string. String traversal will take place from left to right, not from right to left."
      ]
    },
    {
      "cell_type": "code",
      "metadata": {
        "id": "pfacJv4doR_E",
        "colab": {
          "base_uri": "https://localhost:8080/"
        },
        "outputId": "7b0c99b2-fd30-4d55-bdfa-748aa1f63d4c"
      },
      "source": [
        "def count_substring(string, sub_string):\n",
        "    count=0\n",
        "    l=len(sub_string)\n",
        "    for i in range(len(string)): #for i in range(len(string)-l+1):\n",
        "        if sub_string[0]==string[i]:\n",
        "            if sub_string in string[i:l+i]:\n",
        "                count+=1\n",
        "    return count\n",
        "\n",
        "if __name__ == '__main__':\n",
        "    string = input().strip()\n",
        "    sub_string = input().strip()\n",
        "    \n",
        "    count = count_substring(string, sub_string)\n",
        "    print(count)"
      ],
      "execution_count": 7,
      "outputs": [
        {
          "output_type": "stream",
          "text": [
            "ABCDCDC\n",
            "CDC\n",
            "2\n"
          ],
          "name": "stdout"
        }
      ]
    },
    {
      "cell_type": "markdown",
      "metadata": {
        "id": "M7x46tS9ToP4"
      },
      "source": [
        "#String Validators\n",
        "\n",
        "You are given a string S.\n",
        "Your task is to find out if the string S contains: alphanumeric characters, alphabetical characters, digits, lowercase and uppercase characters."
      ]
    },
    {
      "cell_type": "code",
      "metadata": {
        "id": "olbi07OEstWZ",
        "colab": {
          "base_uri": "https://localhost:8080/"
        },
        "outputId": "1785138d-a59a-4306-a1b2-da6aab467100"
      },
      "source": [
        "#method 1\n",
        "if __name__ == '__main__':\n",
        "    s = input()\n",
        "    c1,c2,c3,c4,c5=0,0,0,0,0\n",
        "    for i in s:\n",
        "        if i.isalnum()==1:\n",
        "            c1+=1\n",
        "        if i.isalpha()==1:\n",
        "            c2+=1\n",
        "        if i.isnumeric()==1:\n",
        "            c3+=1\n",
        "        if i.islower()==1:\n",
        "            c4+=1\n",
        "        if i.isupper()==1:\n",
        "            c5+=1\n",
        "    \n",
        "    if c1==0:\n",
        "        print(False)\n",
        "    else:\n",
        "        print(True)\n",
        "    \n",
        "        \n",
        "    if c2==0:\n",
        "        print(False)\n",
        "    else:\n",
        "        print(True)\n",
        "    \n",
        "        \n",
        "    if c3==0:\n",
        "        print(False)\n",
        "    else:\n",
        "        print(True)\n",
        "    \n",
        "        \n",
        "    if c4==0:\n",
        "        print(False)\n",
        "    else:\n",
        "        print(True)\n",
        "        \n",
        "        \n",
        "    if c5==0:\n",
        "        print(False)\n",
        "    else:\n",
        "        print(True)\n",
        "\n",
        "      \n"
      ],
      "execution_count": 10,
      "outputs": [
        {
          "output_type": "stream",
          "text": [
            "qA2\n",
            "True\n",
            "True\n",
            "True\n",
            "True\n",
            "True\n"
          ],
          "name": "stdout"
        }
      ]
    },
    {
      "cell_type": "code",
      "metadata": {
        "colab": {
          "base_uri": "https://localhost:8080/"
        },
        "id": "cQm89MTaUA1K",
        "outputId": "47074e9b-6b48-4e0f-a070-92b6b4d92c8d"
      },
      "source": [
        "#method 2\n",
        "if __name__ == '__main__':\n",
        "  s = input()\n",
        "  print(any(map(str.isalnum, s)))\n",
        "  print(any(map(str.isalpha, s)))\n",
        "  print(any(map(str.isdigit, s)))\n",
        "  print(any(map(str.islower, s)))\n",
        "  print(any(map(str.isupper, s)))"
      ],
      "execution_count": 13,
      "outputs": [
        {
          "output_type": "stream",
          "text": [
            "qA2\n",
            "True\n",
            "True\n",
            "True\n",
            "True\n",
            "True\n"
          ],
          "name": "stdout"
        }
      ]
    },
    {
      "cell_type": "markdown",
      "metadata": {
        "id": "r9OSjM_QU_S7"
      },
      "source": [
        "#Text Alignment\n",
        "\n",
        "Creating Hackerrank logo of variable thickness"
      ]
    },
    {
      "cell_type": "code",
      "metadata": {
        "id": "bBl7nZ97xlft",
        "colab": {
          "base_uri": "https://localhost:8080/"
        },
        "outputId": "6ae5b554-4cef-4c25-8f66-3d46c633638d"
      },
      "source": [
        "thickness = int(input()) #This must be an odd number\n",
        "c = 'H'\n",
        "\n",
        "#Top Cone\n",
        "for i in range(thickness):\n",
        "    print((c*i).rjust(thickness-1)+c+(c*i).ljust(thickness-1))\n",
        "\n",
        "#Top Pillars\n",
        "for i in range(thickness+1):\n",
        "    print((c*thickness).center(thickness*2)+(c*thickness).center(thickness*6))\n",
        "\n",
        "#Middle Belt\n",
        "for i in range((thickness+1)//2):\n",
        "    print((c*thickness*5).center(thickness*6))    \n",
        "\n",
        "#Bottom Pillars\n",
        "for i in range(thickness+1):\n",
        "    print((c*thickness).center(thickness*2)+(c*thickness).center(thickness*6))    \n",
        "\n",
        "#Bottom Cone\n",
        "for i in range(thickness):\n",
        "    print(((c*(thickness-i-1)).rjust(thickness)+c+(c*(thickness-i-1)).ljust(thickness)).rjust(thickness*6))"
      ],
      "execution_count": 14,
      "outputs": [
        {
          "output_type": "stream",
          "text": [
            "6\n",
            "     H     \n",
            "    HHH    \n",
            "   HHHHH   \n",
            "  HHHHHHH  \n",
            " HHHHHHHHH \n",
            "HHHHHHHHHHH\n",
            "   HHHHHH                  HHHHHH               \n",
            "   HHHHHH                  HHHHHH               \n",
            "   HHHHHH                  HHHHHH               \n",
            "   HHHHHH                  HHHHHH               \n",
            "   HHHHHH                  HHHHHH               \n",
            "   HHHHHH                  HHHHHH               \n",
            "   HHHHHH                  HHHHHH               \n",
            "   HHHHHHHHHHHHHHHHHHHHHHHHHHHHHH   \n",
            "   HHHHHHHHHHHHHHHHHHHHHHHHHHHHHH   \n",
            "   HHHHHHHHHHHHHHHHHHHHHHHHHHHHHH   \n",
            "   HHHHHH                  HHHHHH               \n",
            "   HHHHHH                  HHHHHH               \n",
            "   HHHHHH                  HHHHHH               \n",
            "   HHHHHH                  HHHHHH               \n",
            "   HHHHHH                  HHHHHH               \n",
            "   HHHHHH                  HHHHHH               \n",
            "   HHHHHH                  HHHHHH               \n",
            "                        HHHHHHHHHHH \n",
            "                         HHHHHHHHH  \n",
            "                          HHHHHHH   \n",
            "                           HHHHH    \n",
            "                            HHH     \n",
            "                             H      \n"
          ],
          "name": "stdout"
        }
      ]
    },
    {
      "cell_type": "markdown",
      "metadata": {
        "id": "Gm9RZCe5VYEQ"
      },
      "source": [
        "#Text Wrap\n",
        "You are given a string S and width w.\n",
        "Your task is to wrap the string into a paragraph of width w."
      ]
    },
    {
      "cell_type": "code",
      "metadata": {
        "id": "EkZaiDKXfnSp",
        "colab": {
          "base_uri": "https://localhost:8080/"
        },
        "outputId": "65395230-e738-477c-e8bb-08fba4569739"
      },
      "source": [
        "import textwrap\n",
        "\n",
        "def wrap(string, max_width):\n",
        "    wrapper = textwrap.TextWrapper(width=max_width)\n",
        "    word_list = wrapper.fill(text=string)\n",
        "    return word_list\n",
        "\n",
        "if __name__ == '__main__':\n",
        "    string, max_width = input(), int(input())\n",
        "    result = wrap(string, max_width)\n",
        "    print(result)\n"
      ],
      "execution_count": 15,
      "outputs": [
        {
          "output_type": "stream",
          "text": [
            "ABCDEFGHIJKLIMNOQRSTUVWXYZ\n",
            "4\n",
            "ABCD\n",
            "EFGH\n",
            "IJKL\n",
            "IMNO\n",
            "QRST\n",
            "UVWX\n",
            "YZ\n"
          ],
          "name": "stdout"
        }
      ]
    },
    {
      "cell_type": "markdown",
      "metadata": {
        "id": "FjdPI1UzVsxr"
      },
      "source": [
        "#Designer Door Mat\n",
        "Mr. Vincent works in a door mat manufacturing company. One day, he designed a new door mat with the following specifications:\n",
        "\n",
        "Mat size must be N X M. (N is an odd natural number, and  M is 3  times .)\n",
        "The design should have 'WELCOME' written in the center.\n",
        "The design pattern should only use |, . and - characters."
      ]
    },
    {
      "cell_type": "code",
      "metadata": {
        "id": "0x-hKF5wf3zl",
        "colab": {
          "base_uri": "https://localhost:8080/"
        },
        "outputId": "b20f94b2-9c62-44d0-f134-d8dc0199d32f"
      },
      "source": [
        "# Enter your code here. Read input from STDIN. Print output to STDOUT\n",
        "m=input().split()\n",
        "n=int(m[0])\n",
        "m=int(m[1])\n",
        "\n",
        "for i in range(1,n-1,2):\n",
        "    print(( str('.|.')*i ).center(m, '-'))\n",
        "    \n",
        "print(\"WELCOME\".center(m,\"-\"))\n",
        "\n",
        "\n",
        "for i in range(1,n-1,2):\n",
        "    print((str('.|.')* (n-1-i) ).center(m, '-'))"
      ],
      "execution_count": 19,
      "outputs": [
        {
          "output_type": "stream",
          "text": [
            "7 21\n",
            "---------.|.---------\n",
            "------.|..|..|.------\n",
            "---.|..|..|..|..|.---\n",
            "-------WELCOME-------\n",
            "---.|..|..|..|..|.---\n",
            "------.|..|..|.------\n",
            "---------.|.---------\n"
          ],
          "name": "stdout"
        }
      ]
    },
    {
      "cell_type": "markdown",
      "metadata": {
        "id": "iCVGHgEyWEvM"
      },
      "source": [
        "#String Formatting\n",
        "Given an integer, n, print the following values for each integer i from 1 to n :\n",
        "\n",
        "Decimal\n",
        "Octal\n",
        "Hexadecimal (capitalized)\n",
        "Binary\n",
        "The four values must be printed on a single line in the order specified above for each i from 1 to n . Each value should be space-padded to match the width of the binary value of n."
      ]
    },
    {
      "cell_type": "code",
      "metadata": {
        "id": "Hj5k18FI05a2",
        "colab": {
          "base_uri": "https://localhost:8080/"
        },
        "outputId": "c6ebf9e4-9a22-4b4a-ae76-4f999ea9947a"
      },
      "source": [
        "#method 1\n",
        "def print_formatted(number):\n",
        "    width=len(bin(number).replace(\"0b\",\"\"))\n",
        "    for x in range(1, number+1):\n",
        "        \n",
        "        print(str(x).rjust(width,\" \"),str(oct(x).replace(\"0o\",\"\")).rjust(width,\" \"),str(hex(x).upper().replace(\"0X\",\"\")).rjust(width,\" \"), str(bin(x).replace(\"0b\",\"\")).rjust(width,\" \"))\n",
        "        \n",
        "if __name__ == '__main__':\n",
        "    n = int(input())\n",
        "    print_formatted(n)"
      ],
      "execution_count": 20,
      "outputs": [
        {
          "output_type": "stream",
          "text": [
            "4\n",
            "  1   1   1   1\n",
            "  2   2   2  10\n",
            "  3   3   3  11\n",
            "  4   4   4 100\n"
          ],
          "name": "stdout"
        }
      ]
    },
    {
      "cell_type": "code",
      "metadata": {
        "colab": {
          "base_uri": "https://localhost:8080/"
        },
        "id": "fJEdY9juWaHf",
        "outputId": "510897ca-ab54-4008-b0b2-b32963c77b92"
      },
      "source": [
        "#method 2\n",
        "def print_formatted(number):\n",
        "    width=len(bin(number).replace(\"0b\",\"\"))\n",
        "    for x in range(1, number+1):\n",
        "        \n",
        "        print(\"{0:{width}d} {0:{width}o} {0:{width}X} {0:{width}b}\".format(x, width=width))\n",
        "if __name__ == '__main__':\n",
        "    n = int(input())\n",
        "    print_formatted(n)"
      ],
      "execution_count": 21,
      "outputs": [
        {
          "output_type": "stream",
          "text": [
            "8\n",
            "   1    1    1    1\n",
            "   2    2    2   10\n",
            "   3    3    3   11\n",
            "   4    4    4  100\n",
            "   5    5    5  101\n",
            "   6    6    6  110\n",
            "   7    7    7  111\n",
            "   8   10    8 1000\n"
          ],
          "name": "stdout"
        }
      ]
    },
    {
      "cell_type": "markdown",
      "metadata": {
        "id": "VJvQQ_lTWnP9"
      },
      "source": [
        "#Alphabet Rangoli\n",
        "You are given an integer, N. Your task is to print an alphabet rangoli of size N .\n",
        "The center of the rangoli has the first alphabet letter a, and the boundary has the Nth alphabet letter (in alphabetical order).\n"
      ]
    },
    {
      "cell_type": "code",
      "metadata": {
        "colab": {
          "base_uri": "https://localhost:8080/"
        },
        "id": "ythBcem82ed0",
        "outputId": "b85a22a1-3910-4847-ffb6-f1297f218800"
      },
      "source": [
        "def print_rangoli(size):\n",
        "    # your code goes here\n",
        "    width=size+(size-1)*3\n",
        "    mid=size-1\n",
        "            \n",
        "    for i in range(size, 0, -1):\n",
        "        row = ['-'] * (2 * size- 1)\n",
        "        for j in range(size - i+1):\n",
        "            row[mid - j] = row[mid + j] = chr(96+j+i)\n",
        "        print ('-'.join(row))\n",
        "        \n",
        "    for i in range(0, size-1):\n",
        "        row = ['-'] * (2 * size- 1)\n",
        "        for j in range(size - i-1):\n",
        "            row[mid - j] = row[mid + j] = chr(98+j+i)\n",
        "        print ('-'.join(row))\n",
        "                \n",
        "if __name__ == '__main__':\n",
        "    n = int(input())\n",
        "    print_rangoli(n)\n"
      ],
      "execution_count": 22,
      "outputs": [
        {
          "output_type": "stream",
          "text": [
            "6\n",
            "----------f----------\n",
            "--------f-e-f--------\n",
            "------f-e-d-e-f------\n",
            "----f-e-d-c-d-e-f----\n",
            "--f-e-d-c-b-c-d-e-f--\n",
            "f-e-d-c-b-a-b-c-d-e-f\n",
            "--f-e-d-c-b-c-d-e-f--\n",
            "----f-e-d-c-d-e-f----\n",
            "------f-e-d-e-f------\n",
            "--------f-e-f--------\n",
            "----------f----------\n"
          ],
          "name": "stdout"
        }
      ]
    },
    {
      "cell_type": "markdown",
      "metadata": {
        "id": "uWcQIDfkXRtI"
      },
      "source": [
        "#Capitalise\n",
        "Given a full name, your task is to capitalize the name appropriately."
      ]
    },
    {
      "cell_type": "code",
      "metadata": {
        "id": "YoG5KYEHYD_O",
        "colab": {
          "base_uri": "https://localhost:8080/"
        },
        "outputId": "d2b72ef0-9781-40b6-e2ae-6b4c2e7d16e5"
      },
      "source": [
        "import math\n",
        "import os\n",
        "import random\n",
        "import re\n",
        "import sys\n",
        "\n",
        "def solve(s):\n",
        "    l=s.split()\n",
        "    l1=[]\n",
        "    for i in s.split():\n",
        "        j=i[0].upper()+i[1:]\n",
        "        s=s.replace(i,j)\n",
        "    return s\n",
        "\n",
        "if __name__ == '__main__':\n",
        "    s = input()\n",
        "    result = solve(s)\n",
        "    print(result)"
      ],
      "execution_count": 26,
      "outputs": [
        {
          "output_type": "stream",
          "text": [
            "132 456 wq  m e\n",
            "132 456 Wq  M E\n"
          ],
          "name": "stdout"
        }
      ]
    },
    {
      "cell_type": "markdown",
      "metadata": {
        "id": "JJp_-kbvW75D"
      },
      "source": [
        "#The Minion Game\n"
      ]
    },
    {
      "cell_type": "code",
      "metadata": {
        "id": "rWNewpmWfLeJ",
        "colab": {
          "base_uri": "https://localhost:8080/"
        },
        "outputId": "e689ba01-f296-4766-d38d-f5ac432e7d4f"
      },
      "source": [
        "def minion_game(string):\n",
        "    # your code goes here\n",
        "    length=len(string)\n",
        "    p1,p2=0,0\n",
        "    \n",
        "    for i in range(length):\n",
        "        if string[i] in 'AEIOU':\n",
        "            p1+=length-i\n",
        "        else:\n",
        "            p2+=length-i\n",
        "    if p2<p1:\n",
        "        print(\"Kevin\"+\" \"+str(p1))\n",
        "    elif p1<p2:\n",
        "        print(\"Stuart\"+\" \"+str(p2))\n",
        "    else:\n",
        "        print(\"Draw\")        \n",
        "\n",
        "if __name__ == '__main__':\n",
        "    s = input()\n",
        "    minion_game(s)"
      ],
      "execution_count": 23,
      "outputs": [
        {
          "output_type": "stream",
          "text": [
            "Hello\n",
            "Stuart 15\n"
          ],
          "name": "stdout"
        }
      ]
    },
    {
      "cell_type": "markdown",
      "metadata": {
        "id": "IOtl6DsCX9nm"
      },
      "source": [
        "#Merge the Tools\n"
      ]
    },
    {
      "cell_type": "code",
      "metadata": {
        "id": "QDm1sVG3ixSv",
        "colab": {
          "base_uri": "https://localhost:8080/"
        },
        "outputId": "d3067b4a-938a-421b-877a-ae6cf5419cf2"
      },
      "source": [
        "#method 1\n",
        "def merge_the_tools(string, k):\n",
        "    # your code goes here\n",
        "    n=len(string)\n",
        "    l=int(n//k)\n",
        "    for i in range(l):\n",
        "        sub_str= string[i*k:(i*k)+k]\n",
        "        distinct = [] #distinct can be taken as string\n",
        "        for j in sub_str:\n",
        "            if j not in distinct:\n",
        "                distinct.append(j) #if distinct is string instead of append distinct+=j\n",
        "        print(\"\".join(distinct))       \n",
        "\n",
        "if __name__ == '__main__':\n",
        "    string, k = input(), int(input())\n",
        "    merge_the_tools(string, k)   "
      ],
      "execution_count": 27,
      "outputs": [
        {
          "output_type": "stream",
          "text": [
            "AABCAAADA\n",
            "3\n",
            "AB\n",
            "CA\n",
            "AD\n"
          ],
          "name": "stdout"
        }
      ]
    }
  ]
}