{
  "nbformat": 4,
  "nbformat_minor": 0,
  "metadata": {
    "colab": {
      "name": "Task3.ipynb",
      "provenance": [],
      "collapsed_sections": []
    },
    "kernelspec": {
      "name": "python3",
      "display_name": "Python 3"
    },
    "language_info": {
      "name": "python"
    }
  },
  "cells": [
    {
      "cell_type": "markdown",
      "metadata": {
        "id": "_uc3e_s7hyO9"
      },
      "source": [
        "#Polar Coordinates\n",
        "\n",
        "\n",
        "You are given a complex z . Your task is to convert it to polar coordinates.\n",
        "\n",
        "Output two lines:\n",
        "The first line should contain the value of r .\n",
        "The second line should contain the value of Phi.\n"
      ]
    },
    {
      "cell_type": "code",
      "metadata": {
        "id": "bkvFay5abDbH",
        "colab": {
          "base_uri": "https://localhost:8080/"
        },
        "outputId": "32b73039-e4b3-4f43-9230-6e0d38a804b7"
      },
      "source": [
        "import cmath\n",
        "num= complex(input())\n",
        "print(abs(complex(num)))\n",
        "print(cmath.phase(complex(num)))"
      ],
      "execution_count": 1,
      "outputs": [
        {
          "output_type": "stream",
          "text": [
            "1+2j\n",
            "2.23606797749979\n",
            "1.1071487177940904\n"
          ],
          "name": "stdout"
        }
      ]
    },
    {
      "cell_type": "markdown",
      "metadata": {
        "id": "Xn5wl9J8iO6a"
      },
      "source": [
        "#Find Angle MBC\n",
        "\n",
        "\n",
        "ABC is a right triangle, 90° at B.\n",
        "Therefore, ABC = 90°.\n",
        "Point M is the midpoint of hypotenuse AC.\n",
        "You are given the lengths AB and BC.\n",
        "Your task is to find MBC (angle, as shown in the figure) in degrees.\n",
        "\n",
        "Input Format :\n",
        "The first line contains the length of side AB.\n",
        "The second line contains the length of side BC."
      ]
    },
    {
      "cell_type": "code",
      "metadata": {
        "id": "IAj8GmcSLy9T",
        "colab": {
          "base_uri": "https://localhost:8080/"
        },
        "outputId": "fa28ac6a-adce-49d0-ad7c-50ff48faa402"
      },
      "source": [
        "import math\n",
        "AB= int(input())\n",
        "BC= int(input())\n",
        "#method 1\n",
        "angle= round(math.degrees(math.atan(AB/BC)))\n",
        "print(str(angle) + u'\\xb0')\n",
        "#method 2\n",
        "angle= round(math.degrees(cmath.phase(complex(BC,AB))))\n",
        "print(str(angle) + u'\\xb0')"
      ],
      "execution_count": 2,
      "outputs": [
        {
          "output_type": "stream",
          "text": [
            "10\n",
            "10\n",
            "45°\n",
            "45°\n"
          ],
          "name": "stdout"
        }
      ]
    },
    {
      "cell_type": "markdown",
      "metadata": {
        "id": "h-OFjL_njSTK"
      },
      "source": [
        "#Triangle Quest 2\n",
        "\n",
        "You are given a positive integer N.\n",
        "Your task is to print a palindromic triangle of size N in 2 lines of code."
      ]
    },
    {
      "cell_type": "code",
      "metadata": {
        "colab": {
          "base_uri": "https://localhost:8080/"
        },
        "id": "Fdb4t62HQQGn",
        "outputId": "e8102733-cbeb-4328-ed04-22613edfa0e1"
      },
      "source": [
        "for i in range(1,int(input())+1):\n",
        "    print ((10**i//9)**2)"
      ],
      "execution_count": 3,
      "outputs": [
        {
          "output_type": "stream",
          "text": [
            "6\n",
            "1\n",
            "121\n",
            "12321\n",
            "1234321\n",
            "123454321\n",
            "12345654321\n"
          ],
          "name": "stdout"
        }
      ]
    },
    {
      "cell_type": "markdown",
      "metadata": {
        "id": "h7_dgFdWjlm1"
      },
      "source": [
        "#Mod DivMod\n",
        "\n",
        "\n",
        "Read in two integers, a and b, and print three lines.\n",
        "The first line is the integer division a//b.\n",
        "The second line is the result of the modulo operator: a%b\n",
        "The third line prints the divmod of a and b .\n"
      ]
    },
    {
      "cell_type": "code",
      "metadata": {
        "id": "WFRVy3aoZnYA",
        "colab": {
          "base_uri": "https://localhost:8080/"
        },
        "outputId": "26b8d57d-cbbd-41d0-840f-706df4284102"
      },
      "source": [
        "a=int(input())\n",
        "b=int(input())\n",
        "\n",
        "print(a//b)\n",
        "print(a%b)\n",
        "print(divmod(a,b))"
      ],
      "execution_count": 4,
      "outputs": [
        {
          "output_type": "stream",
          "text": [
            "12\n",
            "5\n",
            "2\n",
            "2\n",
            "(2, 2)\n"
          ],
          "name": "stdout"
        }
      ]
    },
    {
      "cell_type": "markdown",
      "metadata": {
        "id": "dQuFGcnOj5KS"
      },
      "source": [
        "#Power-Mod Power\n",
        "You are given three integers:a, b, and m. Print two lines.\n",
        "On the first line, print the result of pow(a,b). On the second line, print the result of pow(a,b,m)."
      ]
    },
    {
      "cell_type": "code",
      "metadata": {
        "id": "kpoZqx3Ra138",
        "colab": {
          "base_uri": "https://localhost:8080/"
        },
        "outputId": "58a9770a-580d-4996-f256-4aa81d1e1576"
      },
      "source": [
        "a,b,m= int(input()), int(input()), int(input())\n",
        "\n",
        "print(pow(a,b))\n",
        "print(pow(a,b,m))"
      ],
      "execution_count": 5,
      "outputs": [
        {
          "output_type": "stream",
          "text": [
            "3\n",
            "2\n",
            "5\n",
            "9\n",
            "4\n"
          ],
          "name": "stdout"
        }
      ]
    },
    {
      "cell_type": "markdown",
      "metadata": {
        "id": "bFI990v6kmwM"
      },
      "source": [
        "#Integers come in all sizes\n",
        "\n",
        "Read four numbers, a, b, c, and d, and print the result of a^b + c^d."
      ]
    },
    {
      "cell_type": "code",
      "metadata": {
        "id": "AgjaEfOtapWM",
        "colab": {
          "base_uri": "https://localhost:8080/"
        },
        "outputId": "b616c99a-3374-4341-91fd-85adacfe5931"
      },
      "source": [
        "a,b,c,d= int(input()),int(input()),int(input()),int(input())\n",
        "print((a**b)+(c**d))"
      ],
      "execution_count": 6,
      "outputs": [
        {
          "output_type": "stream",
          "text": [
            "2\n",
            "4\n",
            "6\n",
            "8\n",
            "1679632\n"
          ],
          "name": "stdout"
        }
      ]
    },
    {
      "cell_type": "markdown",
      "metadata": {
        "id": "BqxYJJJgk3LN"
      },
      "source": [
        "#Triangle Quest\n",
        "\n",
        "for n=6:\n",
        "\n",
        "1\n",
        "\n",
        "22\n",
        "\n",
        "333\n",
        "\n",
        "4444\n",
        "\n",
        "55555\n",
        "\n",
        "For given n print the above patttern in 2 lines of code without using any string function.\n"
      ]
    },
    {
      "cell_type": "code",
      "metadata": {
        "id": "CclqGUc8dDYf",
        "colab": {
          "base_uri": "https://localhost:8080/"
        },
        "outputId": "d22ef51f-4ce2-4162-9daa-20bba6f1cec3"
      },
      "source": [
        "for i in range(1,int(input())): #More than 2 lines will result in 0 score. Do not leave a blank line also\n",
        "    print((10**i)//9*i)"
      ],
      "execution_count": 7,
      "outputs": [
        {
          "output_type": "stream",
          "text": [
            "8\n",
            "1\n",
            "22\n",
            "333\n",
            "4444\n",
            "55555\n",
            "666666\n",
            "7777777\n"
          ],
          "name": "stdout"
        }
      ]
    }
  ]
}