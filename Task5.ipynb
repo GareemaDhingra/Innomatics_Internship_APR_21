{
  "nbformat": 4,
  "nbformat_minor": 0,
  "metadata": {
    "colab": {
      "name": "Task5.ipynb",
      "provenance": [],
      "collapsed_sections": []
    },
    "kernelspec": {
      "name": "python3",
      "display_name": "Python 3"
    },
    "language_info": {
      "name": "python"
    }
  },
  "cells": [
    {
      "cell_type": "markdown",
      "metadata": {
        "id": "OsWG8mClvjhi"
      },
      "source": [
        "#Detecting Floating Point Number\n",
        "You are given a string N \n",
        "Your task is to verify that N is a floating point number."
      ]
    },
    {
      "cell_type": "code",
      "metadata": {
        "id": "BeMXKeBkbJ16",
        "colab": {
          "base_uri": "https://localhost:8080/"
        },
        "outputId": "f4058c72-3c9f-4e88-ab1e-15e428cbe944"
      },
      "source": [
        "import re\n",
        "test=int(input())\n",
        "for i in range(test):\n",
        "    num=input()\n",
        "    if bool(re.match(r'^[-|+]?[0-9]*\\.[0-9]+$',num))==True:\n",
        "        print(True)\n",
        "    else:\n",
        "        print(False)"
      ],
      "execution_count": 6,
      "outputs": [
        {
          "output_type": "stream",
          "text": [
            "4\n",
            "4.0O0\n",
            "False\n",
            "-1.00\n",
            "True\n",
            "+4.54\n",
            "True\n",
            "SomeRandomStuff\n",
            "False\n"
          ],
          "name": "stdout"
        }
      ]
    },
    {
      "cell_type": "markdown",
      "metadata": {
        "id": "Zbyoew-HrTLh"
      },
      "source": [
        "#re.split()\n",
        "\n",
        "You are given a string s consisting only of digits 0-9, commas ,, and dots .\n",
        "Your task is to complete the regex_pattern defined below, which will be used to re.split() all of the , and . symbols in s .\n",
        "It’s guaranteed that every comma and every dot in s is preceeded and followed by a digit."
      ]
    },
    {
      "cell_type": "code",
      "metadata": {
        "id": "IlkoeZxYmb4B",
        "colab": {
          "base_uri": "https://localhost:8080/"
        },
        "outputId": "10fab0dc-7319-4a4a-a414-48f12360629d"
      },
      "source": [
        "regex_pattern = r\",|\\.\"\t# Do not delete 'r'.\n",
        "import re\n",
        "print(\"\\n\".join(re.split(regex_pattern, input())))"
      ],
      "execution_count": 7,
      "outputs": [
        {
          "output_type": "stream",
          "text": [
            "100,000,000.000\n",
            "100\n",
            "000\n",
            "000\n",
            "000\n"
          ],
          "name": "stdout"
        }
      ]
    },
    {
      "cell_type": "markdown",
      "metadata": {
        "id": "QhF9jwtmrR6x"
      },
      "source": [
        "#group(), groups(), groupdict()\n",
        "\n",
        "You are given a string S.\n",
        "Your task is to find the first occurrence of an alphanumeric character in S(read from left to right) that has consecutive repetitions."
      ]
    },
    {
      "cell_type": "code",
      "metadata": {
        "id": "ujwcbSoHpweF",
        "colab": {
          "base_uri": "https://localhost:8080/"
        },
        "outputId": "6d10a0e1-1cdb-489e-90e1-ef53216ac551"
      },
      "source": [
        "import re\n",
        "string= input()\n",
        "repeat= re.search(r'([A-Za-z0-9])\\1+',string)\n",
        "if repeat:\n",
        "    print (repeat.group(1))\n",
        "else:\n",
        "    print(-1)"
      ],
      "execution_count": 8,
      "outputs": [
        {
          "output_type": "stream",
          "text": [
            "12345678910111213141516171820212223\n",
            "1\n"
          ],
          "name": "stdout"
        }
      ]
    },
    {
      "cell_type": "markdown",
      "metadata": {
        "id": "2kh9EaCbrRKa"
      },
      "source": [
        "#re.findall(), re.finditer()\n",
        "You are given a string S . It consists of alphanumeric characters, spaces and symbols(+,-).\n",
        "Your task is to find all the substrings of S that contains 2 or more vowels.\n",
        "Also, these substrings must lie in between 2 consonants and should contain vowels only."
      ]
    },
    {
      "cell_type": "code",
      "metadata": {
        "id": "hBsW4NpIp6hN",
        "colab": {
          "base_uri": "https://localhost:8080/"
        },
        "outputId": "0e0e5e54-0bc2-4684-b976-40192bdc0588"
      },
      "source": [
        "import re\n",
        "string=input()\n",
        "\n",
        "match=re.findall(r'(?<=[qwrtypsdfghjklzxcvbnm])([aeiou]{2,})(?=[qwrtypsdfghjklzxcvbnm])',string, re.IGNORECASE)\n",
        "if match:\n",
        "    for m in match:\n",
        "        print(m)\n",
        "else:\n",
        "    print(-1)"
      ],
      "execution_count": 9,
      "outputs": [
        {
          "output_type": "stream",
          "text": [
            "rabcdeefgyYhFjkIoomnpOeorteeeeet\n",
            "ee\n",
            "Ioo\n",
            "Oeo\n",
            "eeeee\n"
          ],
          "name": "stdout"
        }
      ]
    },
    {
      "cell_type": "markdown",
      "metadata": {
        "id": "wciTpwuXrQNQ"
      },
      "source": [
        "#re.start() & re.end()\n",
        "\n",
        "You are given a string s.\n",
        "Your task is to find the indices of the start and end of string  k in s."
      ]
    },
    {
      "cell_type": "code",
      "metadata": {
        "colab": {
          "base_uri": "https://localhost:8080/"
        },
        "id": "u4mu9CiVvMIq",
        "outputId": "b42e4eaf-27dd-457b-c269-6b2ecc7c1a4c"
      },
      "source": [
        "#method 1\n",
        "import re\n",
        "\n",
        "string = input()\n",
        "substring = input()\n",
        "\n",
        "pattern = re.compile(substring)\n",
        "match = pattern.search(string)\n",
        "\n",
        "if not match: print('(-1, -1)')\n",
        "while match:\n",
        "    print('({0}, {1})'.format(match.start(), match.end() - 1))\n",
        "    match = pattern.search(string, match.start() + 1)\n"
      ],
      "execution_count": 10,
      "outputs": [
        {
          "output_type": "stream",
          "text": [
            "aaadaa\n",
            "aa\n",
            "(0, 1)\n",
            "(1, 2)\n",
            "(4, 5)\n"
          ],
          "name": "stdout"
        }
      ]
    },
    {
      "cell_type": "code",
      "metadata": {
        "colab": {
          "base_uri": "https://localhost:8080/"
        },
        "id": "9ev9GcepxYe7",
        "outputId": "9685e5b0-9e89-4fd2-e74f-473be4362390"
      },
      "source": [
        "#method 2\n",
        "import re\n",
        "string=input()\n",
        "sub_string=input()\n",
        "\n",
        "pattern=re.compile(sub_string)\n",
        "match=re.finditer(r'(?=('+sub_string+'))', string)\n",
        "\n",
        "c=0\n",
        "for m in match:\n",
        "    c=1                \n",
        "    print(\"(\"+str(m.start(1))+\", \"+str(m.end(1)-1)+\")\")       \n",
        "if c==0:\n",
        "   print(\"(-1, -1)\")\n",
        "        "
      ],
      "execution_count": 11,
      "outputs": [
        {
          "output_type": "stream",
          "text": [
            "aaadaa\n",
            "aa\n",
            "(0, 1)\n",
            "(1, 2)\n",
            "(4, 5)\n"
          ],
          "name": "stdout"
        }
      ]
    },
    {
      "cell_type": "markdown",
      "metadata": {
        "id": "OlZ_YpJCZ2ZM"
      },
      "source": [
        "#Regex Substitution\n",
        "You are given a text of N lines. The text contains && and || symbols.\n",
        "Your task is to modify those symbols to the following:\n",
        "\n",
        "&& → and\n",
        "|| → or\n",
        "Both && and || should have a space \" \" on both sides.\n",
        "&& -> and\n",
        "||  -> or"
      ]
    },
    {
      "cell_type": "code",
      "metadata": {
        "colab": {
          "base_uri": "https://localhost:8080/"
        },
        "id": "6DxQZ81kZ1by",
        "outputId": "856fbc0d-2472-4404-e41e-18cce5e45a63"
      },
      "source": [
        "import re\n",
        "final=\"\"\n",
        "for i in range(int(input())):\n",
        "    string= input()\n",
        "    string=re.sub(r'(?<= )&&(?= )','and',string)\n",
        "    string=re.sub(r\"(?<= )\\|\\|(?= )\",\"or\",string)\n",
        "    final+=string+\"\\n\"\n",
        "print(final)"
      ],
      "execution_count": null,
      "outputs": [
        {
          "output_type": "stream",
          "text": [
            "11\n",
            "a=1;\n",
            "b=input();\n",
            "\n",
            "if a + b > 0 && a - b < 0:\n",
            "    start()\n",
            "elif a*b > 10 || a/b < 1:\n",
            "    stop()\n",
            "print set(list(a)) | set(list(b)) \n",
            "#Note do not change &&& or ||| or & or |\n",
            "#Only change those '&&' which have space on both sides.\n",
            "#Only change those '|| which have space on both sides.\n",
            "a=1;\n",
            "b=input();\n",
            "\n",
            "if a + b > 0 and a - b < 0:\n",
            "    start()\n",
            "elif a*b > 10 or a/b < 1:\n",
            "    stop()\n",
            "print set(list(a)) | set(list(b)) \n",
            "#Note do not change &&& or ||| or & or |\n",
            "#Only change those '&&' which have space on both sides.\n",
            "#Only change those '|| which have space on both sides.\n",
            "\n"
          ],
          "name": "stdout"
        }
      ]
    },
    {
      "cell_type": "markdown",
      "metadata": {
        "id": "DQyhOH7mkA7Q"
      },
      "source": [
        "#Validating Roman Numerals"
      ]
    },
    {
      "cell_type": "code",
      "metadata": {
        "id": "PN8pSvOXyBy1",
        "colab": {
          "base_uri": "https://localhost:8080/"
        },
        "outputId": "f3d6bff7-3e5c-426f-95a9-68835699aa37"
      },
      "source": [
        "#method 1\n",
        "regex_pattern = r\"^M?M?M?(CM|CD|D?C?C?C?)(XC|XL|L?X?X?X?)(IX|IV|V?I?I?I?)$\"\t# Do not delete 'r'.\n",
        "\n",
        "import re\n",
        "print(str(bool(re.match(regex_pattern, input()))))"
      ],
      "execution_count": 12,
      "outputs": [
        {
          "output_type": "stream",
          "text": [
            "DXXVIIII\n",
            "False\n"
          ],
          "name": "stdout"
        }
      ]
    },
    {
      "cell_type": "code",
      "metadata": {
        "id": "l6CLEyZkipFY",
        "colab": {
          "base_uri": "https://localhost:8080/"
        },
        "outputId": "0a1af2b5-a154-43fb-aa9a-b5b67850204b"
      },
      "source": [
        "#method 2\n",
        "regex_pattern = r\"^M{0,3}(CM|CD|D?C{0,3})(XC|XL|L?X{0,3})(IX|IV|V?I{0,3})$\"\t# Do not delete 'r'.\n",
        "\n",
        "import re\n",
        "print(str(bool(re.match(regex_pattern, input()))))"
      ],
      "execution_count": 13,
      "outputs": [
        {
          "output_type": "stream",
          "text": [
            "CDXXI\n",
            "True\n"
          ],
          "name": "stdout"
        }
      ]
    },
    {
      "cell_type": "markdown",
      "metadata": {
        "id": "thQOMGE6Otgk"
      },
      "source": [
        "#Validating phone numbers\n",
        "You are given some input, and you are required to check whether they are valid mobile numbers.\n",
        "A valid mobile number is a ten digit number starting with a 7,8 or 9."
      ]
    },
    {
      "cell_type": "code",
      "metadata": {
        "id": "DIY8qjRwOyD4",
        "colab": {
          "base_uri": "https://localhost:8080/"
        },
        "outputId": "cf679490-8e80-4174-97c3-c94128b86229"
      },
      "source": [
        "import re\n",
        "pattern=re.compile(r'^(7|8|9)\\d{9}$')\n",
        "for i  in range(int(input())):\n",
        "    number=input()\n",
        "    if bool(re.match(pattern, number))==True:\n",
        "        print('YES')\n",
        "    else:\n",
        "        print('NO')"
      ],
      "execution_count": 14,
      "outputs": [
        {
          "output_type": "stream",
          "text": [
            "2\n",
            "9587456281\n",
            "YES\n",
            "1252478965\n",
            "NO\n"
          ],
          "name": "stdout"
        }
      ]
    },
    {
      "cell_type": "markdown",
      "metadata": {
        "id": "AZCo7zgHPtoD"
      },
      "source": [
        "#Validating and Parsing Email Address\n",
        "Given n pairs of names and email addresses as input, print each name and email address pair having a valid email address on a new line."
      ]
    },
    {
      "cell_type": "code",
      "metadata": {
        "id": "sw8HJVb2Psz-",
        "colab": {
          "base_uri": "https://localhost:8080/"
        },
        "outputId": "98ba1097-0acb-40e4-a6c5-779f217526d0"
      },
      "source": [
        "import re\n",
        "pattern=re.compile(r'^<[a-zA-Z](\\w|\\.|\\-|\\_)*@([a-zA-Z])*\\.([a-zA-Z]){1,3}\\>$')\n",
        "#pattern=re.compile(r'^<[a-zA-Z][\\w\\.\\-]*@[a-zA-Z]*\\.[a-zA-Z]{1,3}\\>$')\n",
        "for i in range(int(input())):\n",
        "    string=input().split(\" \")\n",
        "    if bool(re.match(pattern, string[1]))==True:\n",
        "        print(\" \".join(string))"
      ],
      "execution_count": 20,
      "outputs": [
        {
          "output_type": "stream",
          "text": [
            "2\n",
            "DEXTER <dexter@hotmail.com>\n",
            "DEXTER <dexter@hotmail.com>\n",
            "VIRUS <virus!@variable.:p>\n"
          ],
          "name": "stdout"
        }
      ]
    },
    {
      "cell_type": "markdown",
      "metadata": {
        "id": "2KKYjYdIEZLZ"
      },
      "source": [
        "#Hex Color Code\n",
        "You are given N lines of CSS code. Your task is to print all valid Hex Color Codes, in order of their occurrence from top to bottom."
      ]
    },
    {
      "cell_type": "code",
      "metadata": {
        "id": "PiNfibA-EbS-",
        "colab": {
          "base_uri": "https://localhost:8080/"
        },
        "outputId": "8e44dae7-299f-48b9-c374-c932bcc4a3f7"
      },
      "source": [
        "import re\n",
        "bracket=False\n",
        "pattern= re.compile(r'\\#[\\da-fA-F]{6}|\\#[\\da-fA-F]{3}')\n",
        "list1=[]\n",
        "for i in range(int(input())):\n",
        "    css=input()\n",
        "    if '{' in css:\n",
        "        bracket=True\n",
        "    elif '}' in css:\n",
        "        bracket=False\n",
        "        \n",
        "    elif bracket==True:\n",
        "        grp=re.findall(pattern,css)\n",
        "        for j in grp:\n",
        "            list1.append(j)\n",
        "for i in list1:\n",
        "  print(i)"
      ],
      "execution_count": 19,
      "outputs": [
        {
          "output_type": "stream",
          "text": [
            "11\n",
            "#BED\n",
            "{\n",
            "    color: #FfFdF8; background-color:#aef;\n",
            "    font-size: 123px;\n",
            "}\n",
            "\n",
            "#Cab\n",
            "{\n",
            "    background-color: #ABC;\n",
            "    border: 2px dashed #fff;\n",
            "]\n",
            "#FfFdF8\n",
            "#aef\n",
            "#ABC\n",
            "#fff\n"
          ],
          "name": "stdout"
        }
      ]
    },
    {
      "cell_type": "markdown",
      "metadata": {
        "id": "QqhaBLzxTW-l"
      },
      "source": [
        "#HTML Parser\n",
        "You are given an HTML code snippet of N lines.\n",
        "Your task is to print start tags, end tags and empty tags separately."
      ]
    },
    {
      "cell_type": "code",
      "metadata": {
        "id": "IIHxnuoUTaM2",
        "colab": {
          "base_uri": "https://localhost:8080/"
        },
        "outputId": "a907117a-53f5-4076-f2ad-483a52d45e45"
      },
      "source": [
        "from html.parser import HTMLParser\n",
        "class Parser(HTMLParser):\n",
        "    def handle_starttag(self, tag, attrs):\n",
        "        print (\"Start :\", tag)\n",
        "        for atribute in attrs:\n",
        "            print(\"->\", atribute[0], \">\", atribute[1])\n",
        "    def handle_endtag(self, tag):\n",
        "        print (\"End   :\", tag)\n",
        "    def handle_startendtag(self, tag, attrs):\n",
        "        print (\"Empty :\", tag)\n",
        "        for atribute in attrs:\n",
        "            print(\"->\", atribute[0], \">\", atribute[1])\n",
        "parser=Parser()\n",
        "for i in range(int(input())):\n",
        "  string=input()\n",
        "  parser.feed(string)"
      ],
      "execution_count": 30,
      "outputs": [
        {
          "output_type": "stream",
          "text": [
            "1\n",
            "<html><head><title>HTML Parser - I</title></head> <body data-modal-target class='1'><h1>HackerRank</h1><br /></body></html>\n",
            "Start : html\n",
            "Start : head\n",
            "Start : title\n",
            "End   : title\n",
            "End   : head\n",
            "Start : body\n",
            "-> data-modal-target > None\n",
            "-> class > 1\n",
            "Start : h1\n",
            "End   : h1\n",
            "Empty : br\n",
            "End   : body\n",
            "End   : html\n"
          ],
          "name": "stdout"
        }
      ]
    },
    {
      "cell_type": "markdown",
      "metadata": {
        "id": "LD3s9qyqYZCt"
      },
      "source": [
        "#HTML Parser 2\n",
        "You are given an HTML code snippet of N ines.\n",
        "Your task is to print the single-line comments, multi-line comments and the data."
      ]
    },
    {
      "cell_type": "code",
      "metadata": {
        "id": "K0rraS6yTiXZ",
        "colab": {
          "base_uri": "https://localhost:8080/"
        },
        "outputId": "b2a14bb5-2a43-43a4-e99f-e59cd3e10977"
      },
      "source": [
        "from html.parser import HTMLParser\n",
        "\n",
        "class MyHTMLParser(HTMLParser):\n",
        "    def handle_comment(self, data):\n",
        "        \n",
        "        if \"\\n\" in data:\n",
        "            print(\">>> Multi-line Comment\")\n",
        "            print(data)\n",
        "        else:\n",
        "            print(\">>> Single-line Comment\")\n",
        "            print(data)\n",
        "    def handle_data(self, data):\n",
        "        if data!=\"\\n\":\n",
        "            print (\">>> Data\")\n",
        "            print(data)\n",
        "  \n",
        "html = \"\"       \n",
        "for i in range(int(input())):\n",
        "    html += input().rstrip()\n",
        "    html += '\\n'\n",
        "    \n",
        "parser = MyHTMLParser()\n",
        "parser.feed(html)\n",
        "parser.close()"
      ],
      "execution_count": 27,
      "outputs": [
        {
          "output_type": "stream",
          "text": [
            "1\n",
            "<!--[if IE 9]>IE9-specific content <![endif]--> <div> Welcome to HackerRank</div> <!--[if IE 9]>IE9-specific content<![endif]-->\n",
            ">>> Single-line Comment\n",
            "[if IE 9]>IE9-specific content <![endif]\n",
            ">>> Data\n",
            " \n",
            ">>> Data\n",
            " Welcome to HackerRank\n",
            ">>> Data\n",
            " \n",
            ">>> Single-line Comment\n",
            "[if IE 9]>IE9-specific content<![endif]\n"
          ],
          "name": "stdout"
        }
      ]
    },
    {
      "cell_type": "markdown",
      "metadata": {
        "id": "pYivwr4vZhPV"
      },
      "source": [
        "#Detect HTML Tags, Attributes and Attribute Values\n",
        "\n",
        "You are given an HTML code snippet of N lines.\n",
        "Your task is to detect and print all the HTML tags, attributes and attribute values."
      ]
    },
    {
      "cell_type": "code",
      "metadata": {
        "id": "y7irzlmAZlRh",
        "colab": {
          "base_uri": "https://localhost:8080/"
        },
        "outputId": "5f9ad20b-f6dd-4e1f-e843-99c40c51229e"
      },
      "source": [
        "from html.parser import HTMLParser\n",
        "\n",
        "class Parser(HTMLParser):\n",
        "    def handle_starttag(self, tag, attrs):\n",
        "        print (tag)\n",
        "        for atribute in attrs:\n",
        "            print(\"->\", atribute[0], \">\", atribute[1])\n",
        "    #def handle_endtag(self, tag):\n",
        "     #   print (\"End   :\", tag)\n",
        "    def handle_startendtag(self, tag, attrs):\n",
        "        print (tag)\n",
        "        for atribute in attrs:\n",
        "            print(\"->\", atribute[0], \">\", atribute[1])\n",
        "            \n",
        "parser=Parser()\n",
        "for i in range(int(input())):\n",
        "    string=input()\n",
        "    print()\n",
        "    parser.feed(string)"
      ],
      "execution_count": 28,
      "outputs": [
        {
          "output_type": "stream",
          "text": [
            "1\n",
            "<head> <title>HTML</title> </head> <object type=\"application/x-flash\"   data=\"your-file.swf\"   width=\"0\" height=\"0\">   <!-- <param name=\"movie\" value=\"your-file.swf\" /> -->   <param name=\"quality\" value=\"high\"/> </object>\n",
            "\n",
            "head\n",
            "title\n",
            "object\n",
            "-> type > application/x-flash\n",
            "-> data > your-file.swf\n",
            "-> width > 0\n",
            "-> height > 0\n",
            "param\n",
            "-> name > quality\n",
            "-> value > high\n"
          ],
          "name": "stdout"
        }
      ]
    },
    {
      "cell_type": "markdown",
      "metadata": {
        "id": "iWgAhipjZudY"
      },
      "source": [
        "#Validating UID\n",
        "A valid UID must follow the rules below:\n",
        "\n",
        "It must contain at least 2 uppercase English alphabet characters.\n",
        "It must contain at least 3 digits (0-9).\n",
        "It should only contain alphanumeric characters (a-z, A-Z & 0-9).\n",
        "No character should repeat.\n",
        "There must be exactly 10 characters in a valid UID."
      ]
    },
    {
      "cell_type": "code",
      "metadata": {
        "id": "cUJPTLU331wy",
        "colab": {
          "base_uri": "https://localhost:8080/"
        },
        "outputId": "037cca45-1496-41fd-baf3-a978d87d8ba3"
      },
      "source": [
        "import re\n",
        "for i in range(int(input())):\n",
        "    string=input()\n",
        "    if len(string)>10 or len(set(string))<10:\n",
        "        print('Invalid')\n",
        "        \n",
        "    elif len(set(string))==10 and string.isalnum()==1:\n",
        "        if bool(re.search(r'(.*[A-Z]){2,}', string)) and bool(re.search(r'(.*[\\d]){3,}', string)):\n",
        "            print('Valid')\n",
        "        else:\n",
        "            print('Invalid')"
      ],
      "execution_count": 24,
      "outputs": [
        {
          "output_type": "stream",
          "text": [
            "2\n",
            "B1CD102354\n",
            "Invalid\n",
            "B1CDEF2354\n",
            "Valid\n"
          ],
          "name": "stdout"
        }
      ]
    },
    {
      "cell_type": "markdown",
      "metadata": {
        "id": "asTLFUPfivKt"
      },
      "source": [
        "#Validating Credit Card\n",
        "\n",
        "► It must start with a 4, 5 or 6 .\n",
        "► It must contain exactly 16 digits.\n",
        "► It must only consist of digits (0-9).\n",
        "► It may have digits in groups of 4, separated by one hyphen \"-\".\n",
        "► It must NOT use any other separator like ' ' , '_', etc.\n",
        "► It must NOT have 4 or more consecutive repeated digits."
      ]
    },
    {
      "cell_type": "code",
      "metadata": {
        "id": "DJHvFyso36aX",
        "colab": {
          "base_uri": "https://localhost:8080/"
        },
        "outputId": "9f752a48-4503-4527-b073-086be587caf8"
      },
      "source": [
        "import re\n",
        "pattern=re.compile(r'^(?!.*(\\d)(-?\\1){3})[456]\\d{3}(?:-?\\d{4}){3}$')\n",
        "for i in range(int(input())):\n",
        "    string=input()\n",
        "    if bool(re.match(pattern, string))==True:\n",
        "        print('Valid')  \n",
        "    else:\n",
        "        print('Invalid')"
      ],
      "execution_count": 23,
      "outputs": [
        {
          "output_type": "stream",
          "text": [
            "6\n",
            "4123456789123456\n",
            "Valid\n",
            "5123-4567-8912-3456\n",
            "Valid\n",
            "61234-567-8912-3456\n",
            "Invalid\n",
            "4123356789123456\n",
            "Valid\n",
            "5133-3367-8912-3456\n",
            "Invalid\n",
            "5123 - 3567 - 8912 - 3456\n",
            "Invalid\n"
          ],
          "name": "stdout"
        }
      ]
    },
    {
      "cell_type": "markdown",
      "metadata": {
        "id": "HEhtMH24qoqc"
      },
      "source": [
        "#Validating postal codes\n",
        "1. Number b/w 100000 to 999999\n",
        "2. Not more than 1 alternating repeating digit pair."
      ]
    },
    {
      "cell_type": "code",
      "metadata": {
        "id": "ZNsqbMa2qsnK",
        "colab": {
          "base_uri": "https://localhost:8080/"
        },
        "outputId": "45424407-ee82-4c61-8c50-7b7b7d67d84d"
      },
      "source": [
        "regex_integer_in_range = r\"^[1-9][0-9]{5}$\"\t# Do not delete 'r'.\n",
        "regex_alternating_repetitive_digit_pair = r\"(\\d)(?=\\d\\1)\"\t# Do not delete 'r'.\n",
        "\n",
        "\n",
        "import re\n",
        "P = input()\n",
        "\n",
        "print (bool(re.match(regex_integer_in_range, P)) \n",
        "and len(re.findall(regex_alternating_repetitive_digit_pair, P)) < 2)"
      ],
      "execution_count": 22,
      "outputs": [
        {
          "output_type": "stream",
          "text": [
            "110000\n",
            "False\n"
          ],
          "name": "stdout"
        }
      ]
    },
    {
      "cell_type": "markdown",
      "metadata": {
        "id": "zO7CKOiWqws6"
      },
      "source": [
        "#Matrix Script\n",
        "To decode the script, Neo needs to read each column and select only the alphanumeric characters and connect them. Neo reads the column from top to bottom and starts reading from the leftmost column.\n",
        "\n",
        "If there are symbols or spaces between two alphanumeric characters of the decoded script, then Neo replaces them with a single space '' for better readability."
      ]
    },
    {
      "cell_type": "code",
      "metadata": {
        "id": "hvkNdGo8yubt",
        "colab": {
          "base_uri": "https://localhost:8080/"
        },
        "outputId": "e87a4c6b-5e82-44f3-a924-8bd0213685e0"
      },
      "source": [
        "import math\n",
        "import os\n",
        "import random\n",
        "import re\n",
        "import sys\n",
        "\n",
        "\n",
        "first_multiple_input = input().rstrip().split()\n",
        "n = int(first_multiple_input[0])\n",
        "m = int(first_multiple_input[1])\n",
        "matrix = []\n",
        "\n",
        "for _ in range(n):\n",
        "    matrix_item = input()\n",
        "    matrix.append(matrix_item)\n",
        "\n",
        "new_str=\"\"\n",
        "for col in range(m):\n",
        "    for row in range(n):\n",
        "        new_str+=matrix[row][col]\n",
        "    \n",
        "match= re.sub(r'(?<=[a-zA-Z0-9])[^a-zA-Z0-9]+(?=[a-zA-Z0-9])', ' ', new_str) #didn't use \\w bcoz it also includes _ which was not considered alphanumeric in question\n",
        "print(match)"
      ],
      "execution_count": 21,
      "outputs": [
        {
          "output_type": "stream",
          "text": [
            "7 3\n",
            "Tsi\n",
            "h%x\n",
            "i #\n",
            "sM \n",
            "$a \n",
            "#t%\n",
            "ir!\n",
            "This is Matrix#  %!\n"
          ],
          "name": "stdout"
        }
      ]
    }
  ]
}