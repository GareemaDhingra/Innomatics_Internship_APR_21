{
  "nbformat": 4,
  "nbformat_minor": 0,
  "metadata": {
    "colab": {
      "name": "Task6.ipynb",
      "provenance": [],
      "collapsed_sections": [],
      "toc_visible": true
    },
    "kernelspec": {
      "name": "python3",
      "display_name": "Python 3"
    },
    "language_info": {
      "name": "python"
    }
  },
  "cells": [
    {
      "cell_type": "markdown",
      "metadata": {
        "id": "zI2iWU3hd7hF"
      },
      "source": [
        "#Arrays \n",
        "You are given a space separated list of numbers.\n",
        "Your task is to print a reversed NumPy array with the element type float."
      ]
    },
    {
      "cell_type": "code",
      "metadata": {
        "id": "0cgiYAgrd6fa",
        "colab": {
          "base_uri": "https://localhost:8080/"
        },
        "outputId": "9f64937e-1df8-4c87-fe5a-a2d8b0631c5c"
      },
      "source": [
        "import numpy\n",
        "\n",
        "def arrays(arr):\n",
        "    # complete this function\n",
        "    # use numpy.array\n",
        "    b=numpy.array(arr, float)\n",
        "    return b[::-1]\n",
        "\n",
        "arr = input().strip().split(' ')\n",
        "result = arrays(arr)\n",
        "print(result)"
      ],
      "execution_count": 1,
      "outputs": [
        {
          "output_type": "stream",
          "text": [
            "1 2 3 4 -8 -10\n",
            "[-10.  -8.   4.   3.   2.   1.]\n"
          ],
          "name": "stdout"
        }
      ]
    },
    {
      "cell_type": "markdown",
      "metadata": {
        "id": "tX2uXHhsfPeq"
      },
      "source": [
        "#Shape and Reshape\n",
        "You are given a space separated list of nine integers. Your task is to convert this list into a 3 X 3 NumPy array."
      ]
    },
    {
      "cell_type": "code",
      "metadata": {
        "id": "0NhfEtrsfauh",
        "colab": {
          "base_uri": "https://localhost:8080/"
        },
        "outputId": "46440911-c480-4b4f-cd9a-e653d1a86525"
      },
      "source": [
        "import numpy\n",
        "lst= input().split(' ')\n",
        "lst=numpy.array(lst, int)\n",
        "lst.shape=(3,3)\n",
        "print(lst)"
      ],
      "execution_count": 2,
      "outputs": [
        {
          "output_type": "stream",
          "text": [
            "1 2 3 4 5 6 7 8 9\n",
            "[[1 2 3]\n",
            " [4 5 6]\n",
            " [7 8 9]]\n"
          ],
          "name": "stdout"
        }
      ]
    },
    {
      "cell_type": "markdown",
      "metadata": {
        "id": "AI-NbIefEKNB"
      },
      "source": [
        "#Transpose and Flatten\n",
        "You are given a N X M integer array matrix with space separated elements (N = rows and M = columns).\n",
        "Your task is to print the transpose and flatten results."
      ]
    },
    {
      "cell_type": "code",
      "metadata": {
        "id": "-PfQwnexqSOS",
        "colab": {
          "base_uri": "https://localhost:8080/"
        },
        "outputId": "85d23087-ab90-4b16-a58e-eedfdddd1662"
      },
      "source": [
        "import numpy\n",
        "n,m= map(int, input().split(\" \"))\n",
        "arr = numpy.array([input().split() for i in range(n)], int)\n",
        "print(arr.transpose())\n",
        "print(arr.flatten())"
      ],
      "execution_count": 3,
      "outputs": [
        {
          "output_type": "stream",
          "text": [
            "2 2\n",
            "1 2\n",
            "3 4\n",
            "[[1 3]\n",
            " [2 4]]\n",
            "[1 2 3 4]\n"
          ],
          "name": "stdout"
        }
      ]
    },
    {
      "cell_type": "markdown",
      "metadata": {
        "id": "oTrZdWjwESng"
      },
      "source": [
        "#Concatenate\n",
        "You are given two integer arrays of size N X P and M X P (N & M  are rows, and P is the column). Your task is to concatenate the arrays along axis 0."
      ]
    },
    {
      "cell_type": "code",
      "metadata": {
        "id": "ElZty-oVrM9M",
        "colab": {
          "base_uri": "https://localhost:8080/"
        },
        "outputId": "8f5e5d94-594c-4071-f914-9c89822c27c0"
      },
      "source": [
        "import numpy\n",
        "n,m,p= map(int, input().split(\" \"))\n",
        "arr_n = numpy.array([input().strip().split() for i in range(n)], int)\n",
        "arr_m = numpy.array([input().strip().split() for i in range(m)], int)\n",
        "print(numpy.concatenate((arr_n, arr_m), axis=0))"
      ],
      "execution_count": 5,
      "outputs": [
        {
          "output_type": "stream",
          "text": [
            "4 3 2\n",
            "1 2\n",
            "1 2\n",
            "1 2\n",
            "1 2\n",
            "3 4\n",
            "3 4\n",
            "3 4\n",
            "[[1 2]\n",
            " [1 2]\n",
            " [1 2]\n",
            " [1 2]\n",
            " [3 4]\n",
            " [3 4]\n",
            " [3 4]]\n"
          ],
          "name": "stdout"
        }
      ]
    },
    {
      "cell_type": "markdown",
      "metadata": {
        "id": "I35yCaFkE9Th"
      },
      "source": [
        "#Zeros and Ones\n",
        "You are given the shape of the array in the form of space-separated integers, each integer representing the size of different dimensions, your task is to print an array of the given shape and integer type using the tools numpy.zeros and numpy.ones."
      ]
    },
    {
      "cell_type": "code",
      "metadata": {
        "id": "9t2xeim7sSR6",
        "colab": {
          "base_uri": "https://localhost:8080/"
        },
        "outputId": "7ae5202e-24fe-49ce-9ada-ed7302674aa3"
      },
      "source": [
        "import numpy\n",
        "arr_size= tuple(map(int, input().split(\" \")))\n",
        "print(numpy.zeros(arr_size, dtype=numpy.int))\n",
        "print(numpy.ones(arr_size, dtype= numpy.int))"
      ],
      "execution_count": 6,
      "outputs": [
        {
          "output_type": "stream",
          "text": [
            "3 3 3\n",
            "[[[0 0 0]\n",
            "  [0 0 0]\n",
            "  [0 0 0]]\n",
            "\n",
            " [[0 0 0]\n",
            "  [0 0 0]\n",
            "  [0 0 0]]\n",
            "\n",
            " [[0 0 0]\n",
            "  [0 0 0]\n",
            "  [0 0 0]]]\n",
            "[[[1 1 1]\n",
            "  [1 1 1]\n",
            "  [1 1 1]]\n",
            "\n",
            " [[1 1 1]\n",
            "  [1 1 1]\n",
            "  [1 1 1]]\n",
            "\n",
            " [[1 1 1]\n",
            "  [1 1 1]\n",
            "  [1 1 1]]]\n"
          ],
          "name": "stdout"
        }
      ]
    },
    {
      "cell_type": "markdown",
      "metadata": {
        "id": "jKgTT6EYFKxN"
      },
      "source": [
        "#Eye and Identity\n",
        "Your task is to print an array of size N X M with its main diagonal elements as 1's and 0's everywhere else."
      ]
    },
    {
      "cell_type": "code",
      "metadata": {
        "id": "IJO_ehnJtI68",
        "colab": {
          "base_uri": "https://localhost:8080/"
        },
        "outputId": "e667b81a-4150-443e-eacc-e0bef239c8b7"
      },
      "source": [
        "import numpy\n",
        "numpy.set_printoptions(legacy='1.13')\n",
        "n,m= map(int, input().strip().split(\" \"))\n",
        "print(numpy.eye(n,m, k=0))"
      ],
      "execution_count": 7,
      "outputs": [
        {
          "output_type": "stream",
          "text": [
            "3 3\n",
            "[[ 1.  0.  0.]\n",
            " [ 0.  1.  0.]\n",
            " [ 0.  0.  1.]]\n"
          ],
          "name": "stdout"
        }
      ]
    },
    {
      "cell_type": "markdown",
      "metadata": {
        "id": "69_DKbz3FeMk"
      },
      "source": [
        "#Array Mathematics\n",
        "You are given two integer arrays, A and B of dimensions N X M.\n",
        "Your task is to perform the following operations:\n",
        "\n",
        "Add (A + B)\n",
        "Subtract ( A - B )\n",
        "Multiply ( A * B )\n",
        "Integer Division (A / B)\n",
        "Mod ( A % B )\n",
        "Power ( A ** B)"
      ]
    },
    {
      "cell_type": "code",
      "metadata": {
        "id": "RH7-Sseqvmtj",
        "colab": {
          "base_uri": "https://localhost:8080/"
        },
        "outputId": "f9291a5f-3da4-468f-eeca-324666ac6fa8"
      },
      "source": [
        "import numpy\n",
        "n,m= map(int, input().strip().split(\" \"))\n",
        "arr_n = numpy.array([input().strip().split() for i in range(n)], int)\n",
        "arr_m = numpy.array([input().strip().split() for i in range(n)], int)\n",
        "print(arr_n+ arr_m)\n",
        "print(arr_n - arr_m)\n",
        "print(numpy.multiply(arr_n, arr_m))\n",
        "print(numpy.floor_divide(arr_n, arr_m))\n",
        "print(arr_n% arr_m)\n",
        "print(arr_n ** arr_m)"
      ],
      "execution_count": 8,
      "outputs": [
        {
          "output_type": "stream",
          "text": [
            "1 4\n",
            "1 2 3 4\n",
            "5 6 7 8 \n",
            "[[ 6  8 10 12]]\n",
            "[[-4 -4 -4 -4]]\n",
            "[[ 5 12 21 32]]\n",
            "[[0 0 0 0]]\n",
            "[[1 2 3 4]]\n",
            "[[    1    64  2187 65536]]\n"
          ],
          "name": "stdout"
        }
      ]
    },
    {
      "cell_type": "markdown",
      "metadata": {
        "id": "YO0LfM-gGALX"
      },
      "source": [
        "#Floor, Ceil and Rint\n",
        "You are given a 1-D array, A. Your task is to print the floor, ceil and rint of all the elements of A ."
      ]
    },
    {
      "cell_type": "code",
      "metadata": {
        "id": "JTWRK8VxwtnE",
        "colab": {
          "base_uri": "https://localhost:8080/"
        },
        "outputId": "0eabc1e6-15d3-4686-f5f1-7bcd0f2daea6"
      },
      "source": [
        "import numpy\n",
        "numpy.set_printoptions(legacy='1.13')\n",
        "n= numpy.array((input().strip().split(\" \")), dtype=float)\n",
        "print(numpy.floor(n))\n",
        "print(numpy.ceil(n))\n",
        "print(numpy.rint(n))"
      ],
      "execution_count": 9,
      "outputs": [
        {
          "output_type": "stream",
          "text": [
            "1.1 2.2 3.3 4.4 5.5 6.6 7.7 8.8 9.9\n",
            "[ 1.  2.  3.  4.  5.  6.  7.  8.  9.]\n",
            "[  2.   3.   4.   5.   6.   7.   8.   9.  10.]\n",
            "[  1.   2.   3.   4.   6.   7.   8.   9.  10.]\n"
          ],
          "name": "stdout"
        }
      ]
    },
    {
      "cell_type": "markdown",
      "metadata": {
        "id": "J-xHqwrFGbJu"
      },
      "source": [
        "#Sum and Prod\n",
        "You are given a 2-D array with dimensions N X M.\n",
        "Your task is to perform the sum tool over axis 0 and then find the product of that result."
      ]
    },
    {
      "cell_type": "code",
      "metadata": {
        "id": "tw5-P4nYxkv3",
        "colab": {
          "base_uri": "https://localhost:8080/"
        },
        "outputId": "51ea54b0-2e79-4f93-cfc9-272b71df10c0"
      },
      "source": [
        "import numpy\n",
        "n,m= map(int, input().strip().split(\" \"))\n",
        "arr_n = numpy.array([input().strip().split() for i in range(n)], int)\n",
        "np_sum=numpy.sum(arr_n, axis=0)\n",
        "print(numpy.product(np_sum))"
      ],
      "execution_count": 10,
      "outputs": [
        {
          "output_type": "stream",
          "text": [
            "2 2\n",
            "1 2\n",
            "3 4\n",
            "24\n"
          ],
          "name": "stdout"
        }
      ]
    },
    {
      "cell_type": "markdown",
      "metadata": {
        "id": "mwb1L33cGvlA"
      },
      "source": [
        "#Min and Max\n",
        "You are given a 2-D array with dimensions N X M.\n",
        "Your task is to perform the min function over axis 1 and then find the max of that."
      ]
    },
    {
      "cell_type": "code",
      "metadata": {
        "id": "ZreeFQWuy6FP",
        "colab": {
          "base_uri": "https://localhost:8080/"
        },
        "outputId": "5211b2b4-9672-4d6c-fb1d-d7dfa2db97b1"
      },
      "source": [
        "import numpy\n",
        "n,m= map(int, input().strip().split(\" \"))\n",
        "arr_n = numpy.array([input().strip().split() for i in range(n)], int)\n",
        "np_min=numpy.min(arr_n, axis=1)\n",
        "print(numpy.max(np_min))"
      ],
      "execution_count": 11,
      "outputs": [
        {
          "output_type": "stream",
          "text": [
            "4 2 \n",
            "2 5\n",
            "3 7\n",
            "1 3\n",
            "4 0\n",
            "3\n"
          ],
          "name": "stdout"
        }
      ]
    },
    {
      "cell_type": "markdown",
      "metadata": {
        "id": "qOT017PRHFLg"
      },
      "source": [
        "#Mean, Var, and Std\n",
        "You are given a 2-D array of size N X M.\n",
        "Your task is to find:\n",
        "\n",
        "The mean along axis 1\n",
        "The var along axis 0\n",
        "The std along axis None"
      ]
    },
    {
      "cell_type": "code",
      "metadata": {
        "colab": {
          "base_uri": "https://localhost:8080/"
        },
        "id": "4mKgEEG2t6zK",
        "outputId": "218338fd-ce41-4e7b-d653-5155bf218f29"
      },
      "source": [
        "import numpy\n",
        "n,m= map(int, input().strip().split(\" \"))\n",
        "arr=numpy.array([input().strip().split() for _ in range(n)], int)\n",
        "print(numpy.mean(arr, axis=1))\n",
        "print(numpy.var(arr, axis=0))\n",
        "print(round(numpy.std(arr, axis=None), 11))"
      ],
      "execution_count": 12,
      "outputs": [
        {
          "output_type": "stream",
          "text": [
            "2 2\n",
            "1 2\n",
            "3 4\n",
            "[ 1.5  3.5]\n",
            "[ 1.  1.]\n",
            "1.11803398875\n"
          ],
          "name": "stdout"
        }
      ]
    },
    {
      "cell_type": "markdown",
      "metadata": {
        "id": "AeySqYhPHTbE"
      },
      "source": [
        "#Dot and Cross\n",
        "You are given two arrays A and B. Both have dimensions of N X N.\n",
        "Your task is to compute their matrix product."
      ]
    },
    {
      "cell_type": "code",
      "metadata": {
        "colab": {
          "base_uri": "https://localhost:8080/"
        },
        "id": "wABi1l2DuDF_",
        "outputId": "f1d218a9-f122-4c63-cdfd-f387e00d81d3"
      },
      "source": [
        "import numpy\n",
        "n=int(input())\n",
        "arr_n = numpy.array([input().strip().split() for i in range(n)], int)\n",
        "arr_m = numpy.array([input().strip().split() for i in range(n)], int)\n",
        "print(numpy.dot(arr_n, arr_m))"
      ],
      "execution_count": 13,
      "outputs": [
        {
          "output_type": "stream",
          "text": [
            "2\n",
            "1 2\n",
            "3 4\n",
            "1 2\n",
            "3 4\n",
            "[[ 7 10]\n",
            " [15 22]]\n"
          ],
          "name": "stdout"
        }
      ]
    },
    {
      "cell_type": "markdown",
      "metadata": {
        "id": "M6yFYgp1Hp8v"
      },
      "source": [
        "#Inner and Outer\n",
        "You are given two arrays: A and B .\n",
        "Your task is to compute their inner and outer product."
      ]
    },
    {
      "cell_type": "code",
      "metadata": {
        "colab": {
          "base_uri": "https://localhost:8080/"
        },
        "id": "52j3fBYEv8JT",
        "outputId": "107eece3-fcdd-4d9b-de9c-9473b5100a1d"
      },
      "source": [
        "import numpy\n",
        "arr_n = numpy.array(input().strip().split(), int)\n",
        "arr_m = numpy.array(input().strip().split(), int)\n",
        "print(numpy.inner(arr_n, arr_m))\n",
        "print(numpy.outer(arr_n, arr_m))"
      ],
      "execution_count": 14,
      "outputs": [
        {
          "output_type": "stream",
          "text": [
            "0 1\n",
            "2 3\n",
            "3\n",
            "[[0 0]\n",
            " [2 3]]\n"
          ],
          "name": "stdout"
        }
      ]
    },
    {
      "cell_type": "markdown",
      "metadata": {
        "id": "V7XWaqmJH3fd"
      },
      "source": [
        "#Polynomials\n",
        "You are given the coefficients of a polynomial P.\n",
        "Your task is to find the value of P at point x ."
      ]
    },
    {
      "cell_type": "code",
      "metadata": {
        "colab": {
          "base_uri": "https://localhost:8080/"
        },
        "id": "vBGc4Dxfwtwl",
        "outputId": "3578ba8e-c159-44b3-d942-3bec23841553"
      },
      "source": [
        "import numpy\n",
        "arr_p = numpy.array(input().strip().split(), float)\n",
        "x=int(input())\n",
        "print(numpy.polyval(arr_p, x))"
      ],
      "execution_count": 15,
      "outputs": [
        {
          "output_type": "stream",
          "text": [
            "1.1 2 3\n",
            "0\n",
            "3.0\n"
          ],
          "name": "stdout"
        }
      ]
    },
    {
      "cell_type": "markdown",
      "metadata": {
        "id": "rmztfk0qIDRP"
      },
      "source": [
        "#Linear Algebra\n",
        "You are given a square matrix A with dimensions N X N. Your task is to find the determinant. Note: Round the answer to 2 places after the decimal."
      ]
    },
    {
      "cell_type": "code",
      "metadata": {
        "colab": {
          "base_uri": "https://localhost:8080/"
        },
        "id": "1ttkL6XuxuYR",
        "outputId": "c0c464f7-cf01-4feb-ac09-732303511d70"
      },
      "source": [
        "import numpy\n",
        "n=int(input())\n",
        "arr_p = numpy.array([input().strip().split() for _ in range(n)], float)\n",
        "print(round(numpy.linalg.det(arr_p),2))"
      ],
      "execution_count": 17,
      "outputs": [
        {
          "output_type": "stream",
          "text": [
            "2\n",
            "1.1 1.1\n",
            "1.1 1.1\n",
            "0.0\n"
          ],
          "name": "stdout"
        }
      ]
    }
  ]
}