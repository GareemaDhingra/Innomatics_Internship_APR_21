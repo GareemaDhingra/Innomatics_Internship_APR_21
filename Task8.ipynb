{
  "nbformat": 4,
  "nbformat_minor": 0,
  "metadata": {
    "colab": {
      "name": "Task8.ipynb",
      "provenance": []
    },
    "kernelspec": {
      "name": "python3",
      "display_name": "Python 3"
    },
    "language_info": {
      "name": "python"
    }
  },
  "cells": [
    {
      "cell_type": "markdown",
      "metadata": {
        "id": "lwvT8RtVBEJh"
      },
      "source": [
        "#Binomial Distribution I"
      ]
    },
    {
      "cell_type": "code",
      "metadata": {
        "colab": {
          "base_uri": "https://localhost:8080/"
        },
        "id": "Zd7NSTZ0XK0d",
        "outputId": "865ae15d-b483-42a5-c45f-0510aac7ee83"
      },
      "source": [
        "boys, girls= map(float, input().split())\n",
        "p=boys/(boys+girls)\n",
        "\n",
        "def fact(n):\n",
        "    Fact=1\n",
        "    if n==0:\n",
        "        return (1)\n",
        "    for i in range(1,n+1):\n",
        "        Fact*=i\n",
        "    return Fact\n",
        "\n",
        "def comb(n, r):\n",
        "    com= fact(n)/(fact(r)* fact(n-r))\n",
        "    return com\n",
        "\n",
        "#For prob. atleast 3, we need to add prob of 3 till prob of n\n",
        "def binomial_dist(n,r):\n",
        "    prob= comb(n, r) * (p**r) * ((1-p)**(n-r))\n",
        "    return prob\n",
        "\n",
        "# as we are given x=3 and n=6\n",
        "final_prob=0\n",
        "for i in range(3,7):\n",
        "    final_prob+= binomial_dist(6, i)\n",
        "\n",
        "print(round(final_prob, 3))"
      ],
      "execution_count": 11,
      "outputs": [
        {
          "output_type": "stream",
          "text": [
            "1.09 1\n",
            "0.696\n"
          ],
          "name": "stdout"
        }
      ]
    },
    {
      "cell_type": "markdown",
      "metadata": {
        "id": "UBG0zT_5A6ff"
      },
      "source": [
        "#Binomial Distribution II"
      ]
    },
    {
      "cell_type": "code",
      "metadata": {
        "colab": {
          "base_uri": "https://localhost:8080/"
        },
        "id": "nxYHeuauaugk",
        "outputId": "912b80ac-79ac-40cb-d897-1f7e89d2bd6f"
      },
      "source": [
        "prob, n= map(int, input().split())\n",
        "p=prob/100\n",
        "\n",
        "def fact(n):\n",
        "    Fact=1\n",
        "    if n==0:\n",
        "        return (1)\n",
        "    for i in range(1,n+1):\n",
        "        Fact*=i\n",
        "    return Fact\n",
        "\n",
        "def comb(n, r):\n",
        "    com= fact(n)/(fact(r)* fact(n-r))\n",
        "    return com\n",
        "\n",
        "def binomial_dist(n,r):\n",
        "    prob= comb(n, r) * (p**r) * ((1-p)**(n-r))\n",
        "    return prob\n",
        "\n",
        "# as we are given x<=2\n",
        "prob_atmost2=0\n",
        "for i in range(0,3):\n",
        "    prob_atmost2+= binomial_dist(n, i)\n",
        "print(round((prob_atmost2), 3))\n",
        "\n",
        "# as we are given x>=2\n",
        "prob_atleast2=0\n",
        "for i in range(2,n):\n",
        "    prob_atleast2+= binomial_dist(n, i)\n",
        "print(round(prob_atleast2, 3))\n"
      ],
      "execution_count": 10,
      "outputs": [
        {
          "output_type": "stream",
          "text": [
            "12 10\n",
            "0.891\n",
            "0.342\n"
          ],
          "name": "stdout"
        }
      ]
    },
    {
      "cell_type": "markdown",
      "metadata": {
        "id": "VKAvf38_AJaw"
      },
      "source": [
        "#Normal Distribution I\n",
        "\n"
      ]
    },
    {
      "cell_type": "code",
      "metadata": {
        "colab": {
          "base_uri": "https://localhost:8080/"
        },
        "id": "RAv1tYhjoQ3k",
        "outputId": "d54d132d-8bab-40c4-8926-73b975221800"
      },
      "source": [
        "import math\n",
        "mean, std= map(float, input().split())\n",
        "quest1=input()\n",
        "lower_ques2,upper_ques2= map(float, input().split()) \n",
        "\n",
        "#we need to calculate pdf\n",
        "\n",
        "def normal_distribution(val, mean, std):\n",
        "    pdf= 0.5*(1+math.erf((float(val)-float(mean))/(float(std)*math.sqrt(2))))\n",
        "    return pdf\n",
        "\n",
        "print(round(normal_distribution(quest1, mean, std), 3))\n",
        "print(round(normal_distribution(upper_ques2, mean, std)-normal_distribution(lower_ques2, mean, std),3))"
      ],
      "execution_count": 9,
      "outputs": [
        {
          "output_type": "stream",
          "text": [
            "20 2\n",
            "19.5\n",
            "20 22\n",
            "0.401\n",
            "0.341\n"
          ],
          "name": "stdout"
        }
      ]
    },
    {
      "cell_type": "markdown",
      "metadata": {
        "id": "lfFWLUW4_7Mo"
      },
      "source": [
        "#Normal Distribution II\n",
        "\n"
      ]
    },
    {
      "cell_type": "code",
      "metadata": {
        "colab": {
          "base_uri": "https://localhost:8080/"
        },
        "id": "qhpWmjEkrIou",
        "outputId": "3a834f18-9981-4279-969c-733ff3528c33"
      },
      "source": [
        "import math\n",
        "mean, std= map(float, input().split())\n",
        "ques1=input()\n",
        "ques2= input() \n",
        "\n",
        "#we need to calculate pdf\n",
        "\n",
        "def normal_distribution(val, mean, std):\n",
        "    pdf= 0.5*(1+math.erf((float(val)-float(mean))/(float(std)*math.sqrt(2))))\n",
        "    return pdf\n",
        "# for greater than 80 (mean + 1*std)\n",
        "print(round((1-normal_distribution(ques1, mean, std))*100, 2))\n",
        "# for greater than 60 (mean -1*std)\n",
        "print(round((1-normal_distribution(ques2, mean, std))*100,2))\n",
        "# for lesser than 60 (mean -1*std)\n",
        "print(round((normal_distribution(ques2, mean, std))*100,2))"
      ],
      "execution_count": 8,
      "outputs": [
        {
          "output_type": "stream",
          "text": [
            "70 10\n",
            "80\n",
            "60\n",
            "15.87\n",
            "84.13\n",
            "15.87\n"
          ],
          "name": "stdout"
        }
      ]
    },
    {
      "cell_type": "markdown",
      "metadata": {
        "id": "-kloSpyc_vhI"
      },
      "source": [
        "#The Central Limit Theorem I\n",
        "\n"
      ]
    },
    {
      "cell_type": "code",
      "metadata": {
        "colab": {
          "base_uri": "https://localhost:8080/"
        },
        "id": "sNEvnvFAyVB-",
        "outputId": "2b450c0f-cdb8-40e6-d719-56479cc9a324"
      },
      "source": [
        "import math\n",
        "max_load=int(input())\n",
        "boxes=int(input())\n",
        "mean=float(input())\n",
        "std=float(input())\n",
        "\n",
        "def clt(max_load,boxes, mean, std):\n",
        "    mean1= boxes*mean\n",
        "    std1= std* math.sqrt(boxes)\n",
        "    pdf= 0.5*(1+math.erf((max_load-float(mean1))/(float(std1)*math.sqrt(2))))\n",
        "    return pdf\n",
        "    \n",
        "print(round(clt(max_load, boxes, mean, std), 4))"
      ],
      "execution_count": 7,
      "outputs": [
        {
          "output_type": "stream",
          "text": [
            "9800\n",
            "49\n",
            "205\n",
            "15\n",
            "0.0098\n"
          ],
          "name": "stdout"
        }
      ]
    },
    {
      "cell_type": "markdown",
      "metadata": {
        "id": "1L82eJ3W_ZG8"
      },
      "source": [
        "#The Central Limit Theorem II\n",
        "\n"
      ]
    },
    {
      "cell_type": "code",
      "metadata": {
        "colab": {
          "base_uri": "https://localhost:8080/"
        },
        "id": "28awBkbuzCTb",
        "outputId": "49fb39c9-0aeb-4e0d-8857-f4df9c58a946"
      },
      "source": [
        "import math\n",
        "last_tckt=int(input())\n",
        "queue=int(input())\n",
        "mean=float(input())\n",
        "std=float(input())\n",
        "\n",
        "def clt(last_tckt,queue, mean, std):\n",
        "    mean1= queue*mean\n",
        "    std1= std* math.sqrt(queue)\n",
        "    pdf= 0.5*(1+math.erf((last_tckt-float(mean1))/(float(std1)*math.sqrt(2))))\n",
        "    return pdf\n",
        "    \n",
        "print(round(clt(last_tckt, queue, mean, std), 4))"
      ],
      "execution_count": 6,
      "outputs": [
        {
          "output_type": "stream",
          "text": [
            "250\n",
            "100\n",
            "2.4\n",
            "2.0\n",
            "0.6915\n"
          ],
          "name": "stdout"
        }
      ]
    },
    {
      "cell_type": "markdown",
      "metadata": {
        "id": "WQF9mqAi-4L_"
      },
      "source": [
        "#The Central Limit Theorem III"
      ]
    },
    {
      "cell_type": "code",
      "metadata": {
        "colab": {
          "base_uri": "https://localhost:8080/"
        },
        "id": "eW96qyXH2jXq",
        "outputId": "fa3eb641-0f3d-4d03-b27b-34655d0907f1"
      },
      "source": [
        "import math\n",
        "sample_size=int(input())\n",
        "mean=float(input())\n",
        "std=float(input())\n",
        "percentage=float(input())\n",
        "z_score= float(input())\n",
        "\n",
        "point=(z_score*std)/math.sqrt(sample_size)\n",
        "print(round(mean-point,2))\n",
        "print(round(mean+point,2))"
      ],
      "execution_count": 5,
      "outputs": [
        {
          "output_type": "stream",
          "text": [
            "100\n",
            "500\n",
            "80\n",
            ".95\n",
            "1.96\n",
            "484.32\n",
            "515.68\n"
          ],
          "name": "stdout"
        }
      ]
    },
    {
      "cell_type": "markdown",
      "metadata": {
        "id": "7kPRgmmg-s1s"
      },
      "source": [
        "#Pearson Correlation Coefficient I\n",
        "\n"
      ]
    },
    {
      "cell_type": "code",
      "metadata": {
        "colab": {
          "base_uri": "https://localhost:8080/"
        },
        "id": "XPFSmM58VGA_",
        "outputId": "2f15c36f-4a27-49c1-c08c-ff364e166a4d"
      },
      "source": [
        "n=int(input())\n",
        "x=list(map(float, input().split()))\n",
        "y=list(map(float,input().split()))\n",
        "\n",
        "def mean1(x):\n",
        "    mn= sum(x)/len(x)\n",
        "    return (round(mn,3)) \n",
        "\n",
        "def std1(x, mean):\n",
        "    sum1=0\n",
        "    for i in range(len(x)):\n",
        "        sum1+= (x[i]- mean)**2\n",
        "    var= sum1/len(x)\n",
        "    return (round(var**(0.5),5))\n",
        "\n",
        "def pearson_correlation(x,y):\n",
        "    x_mean=mean1(x)\n",
        "    y_mean= mean1(y)\n",
        "    x_std= std1(x, x_mean)\n",
        "    y_std= std1(y, y_mean)\n",
        "    pearson_num= sum([(x[i]-x_mean) * (y[i]-y_mean) for i in range(n)])\n",
        "    pearson_den= n * x_std * y_std\n",
        "    return(round(pearson_num/pearson_den,3))\n",
        "\n",
        "print(pearson_correlation(x,y))        "
      ],
      "execution_count": 3,
      "outputs": [
        {
          "output_type": "stream",
          "text": [
            "10\n",
            "10 9.8 8 7.8 7.7 7 6 5 4 2 \n",
            "200 44 32 24 22 17 15 12 8 4\n",
            "0.612\n"
          ],
          "name": "stdout"
        }
      ]
    },
    {
      "cell_type": "markdown",
      "metadata": {
        "id": "5iSMuPy79jKt"
      },
      "source": [
        "#Least Square Regression Line"
      ]
    },
    {
      "cell_type": "code",
      "metadata": {
        "colab": {
          "base_uri": "https://localhost:8080/"
        },
        "id": "xhBlh8pDnY-G",
        "outputId": "da2330a0-3261-45e1-94af-dbca5df9b7c3"
      },
      "source": [
        "x, y=[],[]\n",
        "for i in range(5):\n",
        "    x_val, y_val=list(map(int,input().split()))\n",
        "    x.append(x_val)\n",
        "    y.append(y_val)\n",
        "\n",
        "def mean(x):\n",
        "    mn= sum(x)/len(x)\n",
        "    return (round(mn,3))   \n",
        "\n",
        "def find_b(x, y):\n",
        "    sum1=0\n",
        "    b_num= len(x)*(sum([x[i]*y[i] for i in range(len(x))]))- sum(x)*sum(y)\n",
        "    b_den=len(x)*sum([(x[i]**2)for i in range(len(x))])-(sum(x))**2\n",
        "    return(b_num/b_den)\n",
        "\n",
        "def find_a(b,x,y):\n",
        "    return (mean(y)-(find_b(x,y)*mean(x)))\n",
        "\n",
        "def lsr(a,b,x):\n",
        "    y= a+(b*x)\n",
        "    return y\n",
        "    \n",
        "b=find_b(x,y)\n",
        "a=find_a(b,x,y)\n",
        "\n",
        "#finding value of y when x=80\n",
        "print(round(lsr(a,b,80),3))"
      ],
      "execution_count": 2,
      "outputs": [
        {
          "output_type": "stream",
          "text": [
            "95 85\n",
            "85 95\n",
            "80 70\n",
            "70 65\n",
            "60 70\n",
            "78.288\n"
          ],
          "name": "stdout"
        }
      ]
    },
    {
      "cell_type": "markdown",
      "metadata": {
        "id": "JSRxoB-H8ZTx"
      },
      "source": [
        "#Multiple Linear Regression"
      ]
    },
    {
      "cell_type": "code",
      "metadata": {
        "colab": {
          "base_uri": "https://localhost:8080/"
        },
        "id": "nm6Y73B-8YIC",
        "outputId": "99f7a67a-bc97-44ca-86e8-4149ff1e234f"
      },
      "source": [
        "import numpy\n",
        "x_val, n= map(int,input().split())\n",
        "x,y=[],[]\n",
        "for i in range(n):\n",
        "    inp = list(map(float, input().split()))\n",
        "    x.append(1)\n",
        "    x.extend(inp[:x_val])\n",
        "    y.append(inp[x_val:])\n",
        "    \n",
        "q = int(input())\n",
        "q_out = []\n",
        "\n",
        "for i in range(q):\n",
        "    inp = list(map(float, input().split()))\n",
        "    q_out.append(1)\n",
        "    q_out.extend(inp)\n",
        "\n",
        "X = numpy.array(x).reshape(n, x_val+1)\n",
        "Y = numpy.array(y).reshape(n, 1)\n",
        "q_out = numpy.array(q_out).reshape(q, x_val+1)\n",
        "\n",
        "b = numpy.dot(numpy.linalg.inv(numpy.dot(X.T,X)),numpy.dot(X.T,Y))\n",
        "q_out_y = q_out.dot(b)\n",
        "\n",
        "for i in q_out_y:\n",
        "    print(round(float(i),2))"
      ],
      "execution_count": 1,
      "outputs": [
        {
          "output_type": "stream",
          "text": [
            "2 7\n",
            "0.18 0.89 109.85\n",
            "1.0 0.26 155.72\n",
            "0.92 0.11 137.66\n",
            "0.07 0.37 76.17\n",
            "0.85 0.16 139.75\n",
            "0.99 0.41 162.6\n",
            "0.87 0.47 151.77\n",
            "4\n",
            "0.49 0.18\n",
            "0.57 0.83\n",
            "0.56 0.64\n",
            "0.76 0.18\n",
            "105.21\n",
            "142.67\n",
            "132.94\n",
            "129.7\n"
          ],
          "name": "stdout"
        }
      ]
    }
  ]
}