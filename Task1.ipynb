{
  "nbformat": 4,
  "nbformat_minor": 0,
  "metadata": {
    "colab": {
      "name": "Task1.ipynb",
      "provenance": [],
      "collapsed_sections": []
    },
    "kernelspec": {
      "name": "python3",
      "display_name": "Python 3"
    },
    "language_info": {
      "name": "python"
    }
  },
  "cells": [
    {
      "cell_type": "markdown",
      "metadata": {
        "id": "W2OZMZoNOYlC"
      },
      "source": [
        "# Question : \"Say 'Hello, World! with Python\""
      ]
    },
    {
      "cell_type": "code",
      "metadata": {
        "colab": {
          "base_uri": "https://localhost:8080/"
        },
        "id": "3DuCRgFEOsUM",
        "outputId": "b3261159-b859-4022-eda4-00a148064409"
      },
      "source": [
        "print(\"Hello, World!\")"
      ],
      "execution_count": 1,
      "outputs": [
        {
          "output_type": "stream",
          "text": [
            "Hello, World!\n"
          ],
          "name": "stdout"
        }
      ]
    },
    {
      "cell_type": "markdown",
      "metadata": {
        "id": "84mvqWeOOmqr"
      },
      "source": [
        "# Question : Python If-Else\n",
        "\n",
        "Given an integer, , perform the following conditional actions:\n",
        "\n",
        "If n is odd, print Weird\n",
        "If n is even and in the inclusive range of 2 to 5, print Not Weird\n",
        "If n is even and in the inclusive range of 6 to 20, print Weird\n",
        "If n is even and greater than 20 , print Not Weird\n",
        "Input Format\n",
        "\n",
        "A single line containing a positive integer, n ."
      ]
    },
    {
      "cell_type": "code",
      "metadata": {
        "colab": {
          "base_uri": "https://localhost:8080/"
        },
        "id": "ICNFuEvDbJ-X",
        "outputId": "6926620f-f064-4cdc-b0ae-860ceffbf30b"
      },
      "source": [
        "import math\n",
        "import os\n",
        "import random\n",
        "import re\n",
        "import sys\n",
        "if __name__ == '__main__':\n",
        "    n = int(input().strip())\n",
        "\n",
        "if n%2!= 0:\n",
        "    print(\"Weird\")\n",
        "else:\n",
        "    if(n>20 or n in range(2,5)):\n",
        "        print(\"Not Weird\")\n",
        "    else: \n",
        "        print(\"Weird\")"
      ],
      "execution_count": 2,
      "outputs": [
        {
          "output_type": "stream",
          "text": [
            "48\n",
            "Not Weird\n"
          ],
          "name": "stdout"
        }
      ]
    },
    {
      "cell_type": "markdown",
      "metadata": {
        "id": "6pp6Tu_WO3V7"
      },
      "source": [
        "#Question : Arthimetic operators\n",
        "\n",
        "The provided code stub reads two integers from STDIN, a and b. Add code to print three lines where:\n",
        "\n",
        "The first line contains the sum of the two numbers.\n",
        "The second line contains the difference of the two numbers (first - second).\n",
        "The third line contains the product of the two numbers."
      ]
    },
    {
      "cell_type": "code",
      "metadata": {
        "id": "NtpjkraKdd4z",
        "colab": {
          "base_uri": "https://localhost:8080/"
        },
        "outputId": "88fb8a92-fa07-4e87-fd78-5c6287b2b5b5"
      },
      "source": [
        "if __name__ == '__main__':\n",
        "    a = int(input())\n",
        "    b = int(input())\n",
        "\n",
        "print(a+b)\n",
        "print(a-b)\n",
        "print(a*b)"
      ],
      "execution_count": 3,
      "outputs": [
        {
          "output_type": "stream",
          "text": [
            "4\n",
            "6\n",
            "10\n",
            "-2\n",
            "24\n"
          ],
          "name": "stdout"
        }
      ]
    },
    {
      "cell_type": "markdown",
      "metadata": {
        "id": "S9esoJJvPH-H"
      },
      "source": [
        "# Question : Python Division\n",
        "\n",
        "The provided code stub reads two integers, a and b , from STDIN.\n",
        "Add logic to print two lines. The first line should contain the result of integer division, a //b . The second line should contain the result of float division, a / b .\n",
        "No rounding or formatting is necessary."
      ]
    },
    {
      "cell_type": "code",
      "metadata": {
        "id": "ijrhM9p2e9Qh",
        "colab": {
          "base_uri": "https://localhost:8080/"
        },
        "outputId": "e9301f99-3870-42a8-92e9-ea82e2cbd884"
      },
      "source": [
        "from __future__ import division\n",
        "\n",
        "if __name__ == '__main__':\n",
        "    a = int(input())\n",
        "    b = int(input())\n",
        "\n",
        "print(a//b)\n",
        "print(a/b)"
      ],
      "execution_count": 5,
      "outputs": [
        {
          "output_type": "stream",
          "text": [
            "6\n",
            "3\n",
            "2\n",
            "2.0\n"
          ],
          "name": "stdout"
        }
      ]
    },
    {
      "cell_type": "markdown",
      "metadata": {
        "id": "Aimdcn-iPac7"
      },
      "source": [
        "# Question : LOOPS\n",
        "\n",
        "The provided code stub reads and integer, n, from STDIN. For all non-negative integers i<n, print i^2 .\n",
        "\n",
        "Example:\n",
        "n=3\n",
        "\n",
        "The list of non-negative integers that are less than n=3 is [0,1,2]. Print the square of each number on a separate line.\n",
        "\n",
        "0\n",
        "1\n",
        "4\n",
        "\n",
        "Input Format:\n",
        "\n",
        "The first and only line contains the integer,n .\n",
        "\n",
        "Constraints\n",
        "1<= n <=20"
      ]
    },
    {
      "cell_type": "code",
      "metadata": {
        "id": "ywrJoKg0g1eG",
        "colab": {
          "base_uri": "https://localhost:8080/"
        },
        "outputId": "39d2e20d-952d-48a2-ff99-1a600c11684c"
      },
      "source": [
        "import sys\n",
        "if __name__ == '__main__':\n",
        "    n = int(input())\n",
        "\n",
        "for i in range(n):\n",
        "    if(n<1 or n>20):\n",
        "        sys.exit()\n",
        "    else:  \n",
        "        print(i*i)"
      ],
      "execution_count": 6,
      "outputs": [
        {
          "output_type": "stream",
          "text": [
            "7\n",
            "0\n",
            "1\n",
            "4\n",
            "9\n",
            "16\n",
            "25\n",
            "36\n"
          ],
          "name": "stdout"
        }
      ]
    },
    {
      "cell_type": "markdown",
      "metadata": {
        "id": "x2OexhJhP5k6"
      },
      "source": [
        "# Question : Write a function\n",
        "\n",
        "Given a year, determine whether it is a leap year. If it is a leap year, return the Boolean True, otherwise return False."
      ]
    },
    {
      "cell_type": "code",
      "metadata": {
        "id": "R9EKKgcbihKj",
        "colab": {
          "base_uri": "https://localhost:8080/"
        },
        "outputId": "d8a339b7-b4a1-48ee-a660-bcee60caa635"
      },
      "source": [
        "def is_leap(year):\n",
        "    leap=False\n",
        "    # Write your logic here\n",
        "    if(year%4==0):\n",
        "        if(year%100==0 and year%400!=0):\n",
        "            leap=False\n",
        "        else:\n",
        "            leap = True\n",
        "    \n",
        "    return leap\n",
        "\n",
        "year = int(input())\n",
        "print(is_leap(year))"
      ],
      "execution_count": 7,
      "outputs": [
        {
          "output_type": "stream",
          "text": [
            "6743\n",
            "False\n"
          ],
          "name": "stdout"
        }
      ]
    },
    {
      "cell_type": "markdown",
      "metadata": {
        "id": "poja1VNCP4hO"
      },
      "source": [
        "# Question : Print Function\n",
        "\n",
        "The included code stub will read an integer, n , from STDIN.\n",
        "Without using any string methods, try to print the following:\n",
        "\n",
        "123...n \n",
        "\n",
        "Note that \"...\" represents the consecutive values in between.\n",
        "\n",
        "Example\n",
        "n=5\n",
        "\n",
        "Print the string 12345 .\n",
        "\n",
        "Constraints\n",
        "1<= n <=150"
      ]
    },
    {
      "cell_type": "code",
      "metadata": {
        "id": "8832BCY2jxwN",
        "colab": {
          "base_uri": "https://localhost:8080/"
        },
        "outputId": "65c4ee22-41d2-4e75-f140-e44c1850dd55"
      },
      "source": [
        "if __name__ == '__main__':\n",
        "    n = int(input())\n",
        "\n",
        "if (n<1 or n>150):\n",
        "    exit()\n",
        "else:    \n",
        "    for i in range(1,n+1):\n",
        "        print(i, end='')"
      ],
      "execution_count": 1,
      "outputs": [
        {
          "output_type": "stream",
          "text": [
            "11\n",
            "1234567891011"
          ],
          "name": "stdout"
        }
      ]
    }
  ]
}